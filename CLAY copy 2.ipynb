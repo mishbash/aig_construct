{
 "cells": [
  {
   "cell_type": "code",
   "execution_count": 7,
   "id": "6b59e70c-f718-4961-8c21-e365ee2d091b",
   "metadata": {},
   "outputs": [
    {
     "name": "stdout",
     "output_type": "stream",
     "text": [
      "Collecting matplotlib\n",
      "  Downloading matplotlib-3.8.3-cp312-cp312-macosx_11_0_arm64.whl.metadata (5.8 kB)\n",
      "Collecting contourpy>=1.0.1 (from matplotlib)\n",
      "  Downloading contourpy-1.2.0-cp312-cp312-macosx_11_0_arm64.whl.metadata (5.8 kB)\n",
      "Collecting cycler>=0.10 (from matplotlib)\n",
      "  Downloading cycler-0.12.1-py3-none-any.whl.metadata (3.8 kB)\n",
      "Collecting fonttools>=4.22.0 (from matplotlib)\n",
      "  Downloading fonttools-4.49.0-cp312-cp312-macosx_10_9_universal2.whl.metadata (159 kB)\n",
      "\u001b[2K     \u001b[90m━━━━━━━━━━━━━━━━━━━━━━━━━━━━━━━━━━━━━━━\u001b[0m \u001b[32m159.1/159.1 kB\u001b[0m \u001b[31m2.4 MB/s\u001b[0m eta \u001b[36m0:00:00\u001b[0ma \u001b[36m0:00:01\u001b[0m\n",
      "\u001b[?25hCollecting kiwisolver>=1.3.1 (from matplotlib)\n",
      "  Downloading kiwisolver-1.4.5-cp312-cp312-macosx_11_0_arm64.whl.metadata (6.4 kB)\n",
      "Requirement already satisfied: numpy<2,>=1.21 in /opt/homebrew/Cellar/jupyterlab/4.0.10/libexec/lib/python3.12/site-packages (from matplotlib) (1.26.4)\n",
      "Requirement already satisfied: packaging>=20.0 in /opt/homebrew/opt/python-packaging/lib/python3.12/site-packages (from matplotlib) (23.2)\n",
      "Collecting pillow>=8 (from matplotlib)\n",
      "  Downloading pillow-10.2.0-cp312-cp312-macosx_11_0_arm64.whl.metadata (9.7 kB)\n",
      "Collecting pyparsing>=2.3.1 (from matplotlib)\n",
      "  Downloading pyparsing-3.1.1-py3-none-any.whl.metadata (5.1 kB)\n",
      "Requirement already satisfied: python-dateutil>=2.7 in /opt/homebrew/opt/python-dateutil/lib/python3.12/site-packages (from matplotlib) (2.8.2)\n",
      "Requirement already satisfied: six>=1.5 in /opt/homebrew/opt/six/lib/python3.12/site-packages (from python-dateutil>=2.7->matplotlib) (1.16.0)\n",
      "Downloading matplotlib-3.8.3-cp312-cp312-macosx_11_0_arm64.whl (7.5 MB)\n",
      "\u001b[2K   \u001b[90m━━━━━━━━━━━━━━━━━━━━━━━━━━━━━━━━━━━━━━━━\u001b[0m \u001b[32m7.5/7.5 MB\u001b[0m \u001b[31m11.0 MB/s\u001b[0m eta \u001b[36m0:00:00\u001b[0m00:01\u001b[0m00:01\u001b[0m\n",
      "\u001b[?25hDownloading contourpy-1.2.0-cp312-cp312-macosx_11_0_arm64.whl (242 kB)\n",
      "\u001b[2K   \u001b[90m━━━━━━━━━━━━━━━━━━━━━━━━━━━━━━━━━━━━━━━━\u001b[0m \u001b[32m242.6/242.6 kB\u001b[0m \u001b[31m6.9 MB/s\u001b[0m eta \u001b[36m0:00:00\u001b[0m\n",
      "\u001b[?25hDownloading cycler-0.12.1-py3-none-any.whl (8.3 kB)\n",
      "Downloading fonttools-4.49.0-cp312-cp312-macosx_10_9_universal2.whl (2.8 MB)\n",
      "\u001b[2K   \u001b[90m━━━━━━━━━━━━━━━━━━━━━━━━━━━━━━━━━━━━━━━━\u001b[0m \u001b[32m2.8/2.8 MB\u001b[0m \u001b[31m10.8 MB/s\u001b[0m eta \u001b[36m0:00:00\u001b[0m \u001b[36m0:00:01\u001b[0mm\n",
      "\u001b[?25hDownloading kiwisolver-1.4.5-cp312-cp312-macosx_11_0_arm64.whl (64 kB)\n",
      "\u001b[2K   \u001b[90m━━━━━━━━━━━━━━━━━━━━━━━━━━━━━━━━━━━━━━━━\u001b[0m \u001b[32m65.0/65.0 kB\u001b[0m \u001b[31m5.5 MB/s\u001b[0m eta \u001b[36m0:00:00\u001b[0m\n",
      "\u001b[?25hDownloading pillow-10.2.0-cp312-cp312-macosx_11_0_arm64.whl (3.3 MB)\n",
      "\u001b[2K   \u001b[90m━━━━━━━━━━━━━━━━━━━━━━━━━━━━━━━━━━━━━━━━\u001b[0m \u001b[32m3.3/3.3 MB\u001b[0m \u001b[31m10.5 MB/s\u001b[0m eta \u001b[36m0:00:00\u001b[0m00:01\u001b[0m00:01\u001b[0m\n",
      "\u001b[?25hDownloading pyparsing-3.1.1-py3-none-any.whl (103 kB)\n",
      "\u001b[2K   \u001b[90m━━━━━━━━━━━━━━━━━━━━━━━━━━━━━━━━━━━━━━━━\u001b[0m \u001b[32m103.1/103.1 kB\u001b[0m \u001b[31m4.2 MB/s\u001b[0m eta \u001b[36m0:00:00\u001b[0m\n",
      "\u001b[?25hInstalling collected packages: pyparsing, pillow, kiwisolver, fonttools, cycler, contourpy, matplotlib\n",
      "Successfully installed contourpy-1.2.0 cycler-0.12.1 fonttools-4.49.0 kiwisolver-1.4.5 matplotlib-3.8.3 pillow-10.2.0 pyparsing-3.1.1\n",
      "\n",
      "\u001b[1m[\u001b[0m\u001b[34;49mnotice\u001b[0m\u001b[1;39;49m]\u001b[0m\u001b[39;49m A new release of pip is available: \u001b[0m\u001b[31;49m23.3.1\u001b[0m\u001b[39;49m -> \u001b[0m\u001b[32;49m24.0\u001b[0m\n",
      "\u001b[1m[\u001b[0m\u001b[34;49mnotice\u001b[0m\u001b[1;39;49m]\u001b[0m\u001b[39;49m To update, run: \u001b[0m\u001b[32;49m/opt/homebrew/Cellar/jupyterlab/4.0.10/libexec/bin/python -m pip install --upgrade pip\u001b[0m\n",
      "Note: you may need to restart the kernel to use updated packages.\n"
     ]
    }
   ],
   "source": [
    "pip install matplotlib"
   ]
  },
  {
   "cell_type": "code",
   "execution_count": 8,
   "id": "df7b3c35-ccdd-49a3-a1a5-68fc5a17e39b",
   "metadata": {},
   "outputs": [],
   "source": [
    "import os\n",
    "\n",
    "import subprocess\n",
    "\n",
    "import random\n",
    "import re\n",
    "import pandas as pd\n",
    "import matplotlib.pyplot as plt"
   ]
  },
  {
   "cell_type": "code",
   "execution_count": 36,
   "id": "12c43121-cdbd-45c2-b690-9fe728b870df",
   "metadata": {},
   "outputs": [],
   "source": [
    "filename=os.path.realpath(\"/Users/michaelbrown/Documents/GitHub/aig_project/result\")\n",
    "filename_cascade=os.path.realpath(\"/Users/michaelbrown/Documents/GitHub/aig_project/mks/src/build/result\")\n",
    "filename_sdnf=os.path.realpath(\"/Users/michaelbrown/Documents/GitHub/aig_project_copy/result\")\n"
   ]
  },
  {
   "cell_type": "markdown",
   "id": "135dc8b5-f11a-4da3-a5d0-c3b834b3bde8",
   "metadata": {},
   "source": [
    "FUNCTION GENERATION"
   ]
  },
  {
   "cell_type": "code",
   "execution_count": 10,
   "id": "3bd39a46-58b0-4c89-b0a2-71c65c43c326",
   "metadata": {},
   "outputs": [],
   "source": [
    "from itertools import groupby\n",
    "\n",
    "def check_output(sequence):\n",
    "    if isinstance(sequence, (int, float)):\n",
    "        sequence = str(sequence)\n",
    "\n",
    "    groups = [list(g) for k, g in groupby(sequence)]\n",
    "\n",
    "    k_check = len(groups[0])\n",
    "    for i in range(len(groups)):\n",
    "        if len(groups[i]) != k_check:\n",
    "            return False\n",
    "        if int(groups[i][0]) != (i + int(groups[0][0])) % 2:\n",
    "            return False\n",
    "\n",
    "    return True\n"
   ]
  },
  {
   "cell_type": "code",
   "execution_count": 52,
   "id": "ba4be005-242d-4758-9b71-757ad4e803f9",
   "metadata": {},
   "outputs": [
    {
     "data": {
      "text/plain": [
       "[False, True, False, False]"
      ]
     },
     "execution_count": 52,
     "metadata": {},
     "output_type": "execute_result"
    }
   ],
   "source": [
    "# Пересмотренный анализ зависимости от переменных\n",
    "\n",
    "# Поскольку минкод представляет выходы для всех возможных входных комбинаций 4 переменных,\n",
    "# каждый шаг изменения одной переменной соответствует переходу между группами в минкоде\n",
    "\n",
    "# Функция для анализа существенности переменной по индексам изменения\n",
    "def check_variable_essential(mincode):\n",
    "    # Инициализация массива для отслеживания существенности каждой переменной\n",
    "    essential = [False, False, False, False]\n",
    "\n",
    "    # Проходим через все комбинации переменных, сравнивая пары, где меняется только одна переменная\n",
    "    for variable in range(4): # Для каждой переменной\n",
    "        step = 2**variable\n",
    "        for i in range(0, len(mincode), step * 2):\n",
    "            for j in range(step):\n",
    "                if i+j+step < len(mincode) and mincode[i+j] != mincode[i+j+step]:\n",
    "                    essential[variable] = True\n",
    "                    break # Прерываем внутренний цикл, если нашли изменение\n",
    "            if essential[variable]:\n",
    "                break # Прерываем внешний цикл, если переменная существенна\n",
    "\n",
    "    return essential\n",
    "\n",
    "# Проверяем существенность каждой переменной для данного минкода\n",
    "essential_variables_corrected = check_variable_essential('1100110011001100')\n",
    "essential_variables_corrected\n"
   ]
  },
  {
   "cell_type": "code",
   "execution_count": 47,
   "id": "83069558-0f48-4d43-843f-cc047ff4df68",
   "metadata": {},
   "outputs": [],
   "source": [
    "def func_generation(n):\n",
    "    output = [random.randint(0, 1) for _ in range(2**n)]\n",
    "    output = ''.join(map(str,output))\n",
    "    if(check_output(output)):\n",
    "        func_generation(n)  \n",
    "    else:\n",
    "        with open(\"/Users/michaelbrown/Documents/GitHub/aig_project/src/input.txt\", \"w\") as file:\n",
    "            file.write(output)\n",
    "            file.close"
   ]
  },
  {
   "cell_type": "code",
   "execution_count": 20,
   "id": "ac8d7c44-2811-40bf-9f42-2d0ad0dbb97c",
   "metadata": {},
   "outputs": [],
   "source": [
    "def lupanov_synthesis_toabc(n):\n",
    "    result = subprocess.run([filename], shell=True, stdout=subprocess.PIPE, stderr=subprocess.STDOUT)\n",
    "    \n",
    "    result = subprocess.run([filename], shell=True, check=True, stdout=subprocess.PIPE, stderr=subprocess.STDOUT)\n",
    "    result.stdout = str(n) + ' ' + str(result.stdout)[2:-3]\n",
    "    \n",
    "    \n",
    "    output_text = result.stdout\n",
    "    with open(\"/Users/michaelbrown/Documents/GitHub/aig_project/abc_translator/output.txt\", \"w\") as file:\n",
    "        file.write(output_text)\n",
    "    \n",
    "    \n",
    "    \n",
    "    cmd = [\"python3\", \"/Users/michaelbrown/Documents/GitHub/aig_project/abc_translator/aig2verilog1.py\", \"example\", \"/Users/michaelbrown/Documents/GitHub/aig_project/abc_translator/output.txt\", \"/Users/michaelbrown/Documents/GitHub/aig_project/abc_translator/cirquit_lupanov.v\"]\n",
    "    result = subprocess.run(cmd, stdout=subprocess.PIPE, stderr=subprocess.STDOUT)\n"
   ]
  },
  {
   "cell_type": "code",
   "execution_count": 21,
   "id": "b16b9941-31c2-49bd-a25e-26e64c18342b",
   "metadata": {},
   "outputs": [],
   "source": [
    "def cascade_synthesis_toabc(n):\n",
    "    result_cascade = subprocess.run([filename_cascade], shell=True, stdout=subprocess.PIPE, stderr=subprocess.STDOUT)\n",
    "    result_cascade.stdout = str(n) + ' ' + str(result_cascade.stdout)[2:-3]\n",
    "    \n",
    "    output_cascade_text = result_cascade.stdout\n",
    "    with open(\"/Users/michaelbrown/Documents/GitHub/aig_project/abc_translator/output_cascade.txt\", \"w\") as file:\n",
    "        file.write(output_cascade_text)\n",
    "    \n",
    "    cmd = [\"python3\", \"/Users/michaelbrown/Documents/GitHub/aig_project/abc_translator/aig2verilog1.py\", \"example\", \"/Users/michaelbrown/Documents/GitHub/aig_project/abc_translator/output_cascade.txt\", \"/Users/michaelbrown/Documents/GitHub/aig_project/abc_translator/cirquit_cascade.v\"]\n",
    "    result = subprocess.run(cmd, stdout=subprocess.PIPE, stderr=subprocess.STDOUT)\n"
   ]
  },
  {
   "cell_type": "code",
   "execution_count": 41,
   "id": "61a1aed7-8104-4fb9-9b97-8907c1ea72e1",
   "metadata": {},
   "outputs": [],
   "source": [
    "def sdnf_synthesis_toabc(n):\n",
    "    result_sdnf = subprocess.run([filename_sdnf], shell=True, stdout=subprocess.PIPE, stderr=subprocess.STDOUT)\n",
    "    \n",
    "    resul_sdnft = subprocess.run([filename_sdnf], shell=True, check=True, stdout=subprocess.PIPE, stderr=subprocess.STDOUT)\n",
    "    result_sdnf.stdout = str(n) + ' ' + str(result_sdnf.stdout)[2:-3]\n",
    "    \n",
    "    \n",
    "    output_text = result_sdnf.stdout\n",
    "    with open(\"/Users/michaelbrown/Documents/GitHub/aig_project/abc_translator/output_sdnf.txt\", \"w\") as file:\n",
    "        file.write(output_text)\n",
    "    \n",
    "    \n",
    "    \n",
    "    cmd = [\"python3\", \"/Users/michaelbrown/Documents/GitHub/aig_project/abc_translator/aig2verilog1.py\", \"example\", \"/Users/michaelbrown/Documents/GitHub/aig_project/abc_translator/output_sdnf.txt\", \"/Users/michaelbrown/Documents/GitHub/aig_project/abc_translator/cirquit_sdnf.v\"]\n",
    "    result = subprocess.run(cmd, stdout=subprocess.PIPE, stderr=subprocess.STDOUT)\n"
   ]
  },
  {
   "cell_type": "code",
   "execution_count": 42,
   "id": "55da5736-2f56-4e92-8608-b57f5bb160df",
   "metadata": {},
   "outputs": [],
   "source": [
    "sdnf_synthesis_toabc(6)"
   ]
  },
  {
   "cell_type": "code",
   "execution_count": 35,
   "id": "627e68f9-7136-44ad-880d-5cde4a58ab20",
   "metadata": {},
   "outputs": [
    {
     "data": {
      "text/plain": [
       "CompletedProcess(args=['python3', '/Users/michaelbrown/Documents/GitHub/aig_project/abc_translator/aig2verilog1.py', 'example', '/Users/michaelbrown/Documents/GitHub/aig_project/abc_translator/output_sdnf.txt', '/Users/michaelbrown/Documents/GitHub/aig_project/abc_translator/cirquit_sdnf.v'], returncode=0, stdout=b'')"
      ]
     },
     "execution_count": 35,
     "metadata": {},
     "output_type": "execute_result"
    }
   ],
   "source": [
    "result"
   ]
  },
  {
   "cell_type": "code",
   "execution_count": 22,
   "id": "06413658-6fb3-41ca-bb38-4cd8c9bf6677",
   "metadata": {},
   "outputs": [],
   "source": [
    "\n",
    "\n",
    "def append_to_dataframe(s, df=None):\n",
    "    # If no DataFrame is provided, create a new one\n",
    "    if df is None:\n",
    "        df = pd.DataFrame(columns=['i/o in', 'i/o out', 'lat_before', 'nd_before', 'lev_before', 'lat_after', 'and_after', 'lev_after'])\n",
    "    \n",
    "    # Decoding to string if it's in bytes\n",
    "    if isinstance(s, bytes):\n",
    "        s = s.decode('utf-8')\n",
    "\n",
    "    # Regular expression to match the desired pattern\n",
    "    pattern = re.compile(r'i/o =\\s+(\\d+)/\\s+(\\d+)\\s+lat =\\s+(\\d+)\\s+(nd|and) =\\s+(\\d+)\\s+(?:edge =\\s+\\d+\\s+aig\\s+=\\s+\\d+\\s+)?lev =\\s+(\\d+)')\n",
    "\n",
    "    matches = pattern.findall(s)  # Find all matches\n",
    "\n",
    "    # Extract data from matches\n",
    "    data = []\n",
    "    for i, (io_in, io_out, lat, nd_and, nd_and_edge_val, lev) in enumerate(matches):\n",
    "        if i == 0:  # For the 'before' stats\n",
    "            row = {'i/o in': io_in, 'i/o out': io_out, 'lat_before': lat, 'nd_before': nd_and_edge_val, 'lev_before': lev}\n",
    "        else:  # For the 'after' stats\n",
    "            row.update({'lat_after': lat, 'and_after': nd_and_edge_val, 'lev_after': lev})\n",
    "    \n",
    "    data.append(row)\n",
    "    new_df = pd.DataFrame(data)  # Convert the data list to a DataFrame\n",
    "\n",
    "    return pd.concat([df,new_df], ignore_index=True)\n",
    "\n",
    "\n",
    "# Usage\n",
    "#df1 = append_to_dataframe(analysis_lupanov, df1)\n",
    "#print(df1)"
   ]
  },
  {
   "cell_type": "markdown",
   "id": "ccb27215-56dc-4f91-8129-20c934899bfa",
   "metadata": {},
   "source": [
    "\n",
    "                                                            #kaskadi"
   ]
  },
  {
   "cell_type": "code",
   "execution_count": 23,
   "id": "48cca21a-19c7-487e-8534-2ae989661866",
   "metadata": {},
   "outputs": [],
   "source": [
    "\n",
    "def append_to_dataframe_resyn_aig(s, df=None):\n",
    "    # If no DataFrame is provided, create a new one\n",
    "    if df is None:\n",
    "        df = pd.DataFrame(columns=['i/o in', 'i/o out', 'lat_before', 'nd_before', 'lev_before', 'lat_after', 'and_after', 'lev_after'])\n",
    "    \n",
    "    # Decoding to string if it's in bytes\n",
    "    if isinstance(s, bytes):\n",
    "        s = s.decode('utf-8')\n",
    "\n",
    "    # Regular expression to match the desired pattern\n",
    "    pattern = re.compile(r'i/o =\\s*(\\d+)/\\s*(\\d+)\\s*lat =\\s*(\\d+)(?:\\s+and =\\s*(\\d+))?(?:\\s+lev =\\s*(\\d+))?')\n",
    "    matches = pattern.findall(s)\n",
    "\n",
    "    matches = pattern.findall(s)  # Find all matches\n",
    "\n",
    "    # Extract data from matches\n",
    "    data = []\n",
    "    for i, (io_in, io_out, lat, nd_and, lev) in enumerate(matches):\n",
    "        if i == 0:  # For the 'before' stats\n",
    "            row = {'i/o in': io_in, 'i/o out': io_out, 'lat_before': lat, 'nd_before': nd_and, 'lev_before': lev}\n",
    "        else: # For the 'after' stats\n",
    "            row.update({'lat_after': lat, 'and_after': nd_and, 'lev_after': lev})\n",
    "    \n",
    "    data.append(row)\n",
    "    new_df = pd.DataFrame(data)  # Convert the data list to a DataFrame\n",
    "\n",
    "    return pd.concat([df,new_df], ignore_index=True)"
   ]
  },
  {
   "cell_type": "code",
   "execution_count": 24,
   "id": "8112e25e-9438-4d79-bc90-54fbcd061752",
   "metadata": {},
   "outputs": [],
   "source": [
    "def complexity_analysis(df1, df2):\n",
    "    \n",
    "    df_min=pd.concat([df1['and_after'].astype(float), df2['and_after'].astype(float)], axis=1).min(axis=1).astype(float)\n",
    "    opti_lupa = (df1[\"nd_before\"].astype(float)-df1[\"and_after\"].astype(float))\n",
    "    opti_casca = (df2[\"nd_before\"].astype(float)-df2[\"and_after\"].astype(float))\n",
    "    wf =pd.DataFrame({ \"lupa\" :opti_lupa,\"casca\" :opti_casca, \"min\" :df_min})\n",
    "    columns = wf.columns\n",
    "    def pattern(c = columns):\n",
    "        yield from ((v1, v2) for i, v1 in enumerate(c) for v2 in c[i + 1:])\n",
    "    for name1, name2 in pattern():\n",
    "        wf[f'{name1}/{name2}'] = wf[name1].div(wf[name2])\n",
    "    \n",
    "    df1[f'{\"optilupa\"}/{\"lupa\"}'] = opti_lupa.div(df1[\"and_after\"].astype(float))\n",
    "    df2[f'{\"opticasca\"}/{\"casca\"}'] = opti_casca.div(df2[\"and_after\"].astype(float))\n",
    "    return wf[\"lupa/min\"].mean(), wf[\"casca/min\"].mean(),  df1[f'{\"optilupa\"}/{\"lupa\"}'].mean(), df2[f'{\"opticasca\"}/{\"casca\"}'].mean(), df1[\"and_after\"].astype(float).div(df_min).mean(), df2[\"and_after\"].astype(float).div(df_min).mean()\n",
    "    "
   ]
  },
  {
   "cell_type": "code",
   "execution_count": 25,
   "id": "ffc2acda-ffac-4f71-9922-24a420209a0a",
   "metadata": {},
   "outputs": [],
   "source": [
    "def level_analysis(df1, df2):\n",
    "    df_min=pd.concat([df1['lev_after'].astype(float), df2['lev_after'].astype(float)], axis=1).min(axis=1).astype(float)\n",
    "    opti_lupa = (df1[\"lev_before\"].astype(float)-df1[\"lev_after\"].astype(float))\n",
    "    opti_casca = (df2[\"lev_before\"].astype(float)-df2[\"lev_after\"].astype(float))\n",
    "    wf =pd.DataFrame({ \"lupa\" :opti_lupa,\"casca\" :opti_casca, \"min\" :df_min})\n",
    "    columns = wf.columns\n",
    "    def pattern(c = columns):\n",
    "        yield from ((v1, v2) for i, v1 in enumerate(c) for v2 in c[i + 1:])\n",
    "    for name1, name2 in pattern():\n",
    "        wf[f'{name1}/{name2}'] = wf[name1].div(wf[name2])\n",
    "    \n",
    "    df1[f'{\"optilupa\"}/{\"lupa\"}'] = opti_lupa.div(df1[\"lev_after\"].astype(float))\n",
    "    df2[f'{\"opticasca\"}/{\"casca\"}'] = opti_casca.div(df2[\"lev_after\"].astype(float))\n",
    "    return wf[\"lupa/min\"].mean(), wf[\"casca/min\"].mean(),  df1[f'{\"optilupa\"}/{\"lupa\"}'].mean(), df2[f'{\"opticasca\"}/{\"casca\"}'].mean(), df1[\"lev_after\"].astype(float).div(df_min).mean()\n",
    "    "
   ]
  },
  {
   "cell_type": "code",
   "execution_count": null,
   "id": "32f1038a-a33d-41d5-9310-3b66a4cc0be6",
   "metadata": {},
   "outputs": [],
   "source": []
  },
  {
   "cell_type": "code",
   "execution_count": 26,
   "id": "af913f62-23cb-452c-aad3-9b28b007c9ae",
   "metadata": {},
   "outputs": [],
   "source": [
    "def cirquit_analysis(n, k):\n",
    "    df1 = pd.DataFrame(columns=['i/o in', 'i/o out', 'lat_before', 'nd_before', 'lev_before', 'lat_after', 'and_after', 'lev_after'])\n",
    "    df2 = pd.DataFrame(columns=['i/o in', 'i/o out', 'lat_before', 'nd_before', 'lev_before', 'lat_after', 'and_after', 'lev_after'])\n",
    "    for i in range(1, k):\n",
    "        #print(i)\n",
    "        func_generation(n)\n",
    "        lupanov_synthesis_toabc(n)\n",
    "        analysis_lupanov = str(subprocess.run([\"./abc -c 'read /Users/michaelbrown/Documents/GitHub/aig_project/abc_translator/cirquit_lupanov.v; print_stats; resyn2;print_stats'\"], shell=True, capture_output=True).stdout)\n",
    "        cascade_synthesis_toabc(n)\n",
    "        analysis_cascade = str(subprocess.run([\"./abc -c 'read /Users/michaelbrown/Documents/GitHub/aig_project/abc_translator/cirquit_cascade.v;print_stats; resyn2;print_stats'\"], shell=True, capture_output=True).stdout)\n",
    "        \n",
    "        df1 =append_to_dataframe(analysis_lupanov, df1)\n",
    "        df2 = append_to_dataframe(analysis_cascade, df2)\n",
    "    #COMPLEXITY    \n",
    "    return complexity_analysis(df1, df2), level_analysis(df1, df2)"
   ]
  },
  {
   "cell_type": "code",
   "execution_count": 27,
   "id": "3bc8b63b-4d52-498a-aa22-658d6594e626",
   "metadata": {},
   "outputs": [],
   "source": [
    "def cirquit_analysis_new_output(n, k):\n",
    "    df1 = pd.DataFrame(columns=['i/o in', 'i/o out', 'lat_before', 'nd_before', 'lev_before', 'lat_after', 'and_after', 'lev_after'])\n",
    "    df2 = pd.DataFrame(columns=['i/o in', 'i/o out', 'lat_before', 'nd_before', 'lev_before', 'lat_after', 'and_after', 'lev_after'])\n",
    "    for i in range(1, k):\n",
    "        #print(i)\n",
    "        func_generation(n)\n",
    "        lupanov_synthesis_toabc(n)\n",
    "        analysis_lupanov = str(subprocess.run([\"./abc -c 'read /Users/michaelbrown/Documents/GitHub/aig_project/abc_translator/cirquit_lupanov.v; print_stats; resyn2; wa /Users/michaelbrown/Documents/GitHub/aig_project/abc_translator/cirquit_lupanov_resyn.aig'\"], shell=True, capture_output=True).stdout)\n",
    "        analysis_lupanov_resyn = str(subprocess.run([\"./abc -c 'read /Users/michaelbrown/Documents/GitHub/aig_project/abc_translator/cirquit_lupanov_resyn.aig; print_stats; resyn2;print_stats; wa /Users/michaelbrown/Documents/GitHub/aig_project/abc_translator/cirquit_lupanov_resyn.aig'\"], shell=True, capture_output=True).stdout)\n",
    "        cascade_synthesis_toabc(n)\n",
    "        analysis_cascade = str(subprocess.run([\"./abc -c 'read /Users/michaelbrown/Documents/GitHub/aig_project/abc_translator/cirquit_cascade.v;print_stats; resyn2;print_stats; wa /Users/michaelbrown/Documents/GitHub/aig_project/abc_translator/cirquit_cascade_resyn.aig'\"], shell=True, capture_output=True).stdout)\n",
    "        \n",
    "        df1 =append_to_dataframe(analysis_lupanov, df1)\n",
    "        df2 = append_to_dataframe(analysis_cascade, df2)\n",
    "    #COMPLEXITY    \n",
    "    return complexity_analysis(df1, df2), level_analysis(df1, df2)"
   ]
  },
  {
   "cell_type": "code",
   "execution_count": 28,
   "id": "9b82d3b3-640d-4dfa-9a34-915e26a9c38a",
   "metadata": {},
   "outputs": [
    {
     "name": "stdin",
     "output_type": "stream",
     "text": [
      " \n"
     ]
    },
    {
     "ename": "ValueError",
     "evalue": "invalid literal for int() with base 10: ''",
     "output_type": "error",
     "traceback": [
      "\u001b[0;31m---------------------------------------------------------------------------\u001b[0m",
      "\u001b[0;31mValueError\u001b[0m                                Traceback (most recent call last)",
      "Cell \u001b[0;32mIn[28], line 3\u001b[0m\n\u001b[1;32m      1\u001b[0m df1 \u001b[38;5;241m=\u001b[39m pd\u001b[38;5;241m.\u001b[39mDataFrame(columns\u001b[38;5;241m=\u001b[39m[\u001b[38;5;124m'\u001b[39m\u001b[38;5;124mi/o in\u001b[39m\u001b[38;5;124m'\u001b[39m, \u001b[38;5;124m'\u001b[39m\u001b[38;5;124mi/o out\u001b[39m\u001b[38;5;124m'\u001b[39m, \u001b[38;5;124m'\u001b[39m\u001b[38;5;124mlat_before\u001b[39m\u001b[38;5;124m'\u001b[39m, \u001b[38;5;124m'\u001b[39m\u001b[38;5;124mnd_before\u001b[39m\u001b[38;5;124m'\u001b[39m, \u001b[38;5;124m'\u001b[39m\u001b[38;5;124mlev_before\u001b[39m\u001b[38;5;124m'\u001b[39m, \u001b[38;5;124m'\u001b[39m\u001b[38;5;124mlat_after\u001b[39m\u001b[38;5;124m'\u001b[39m, \u001b[38;5;124m'\u001b[39m\u001b[38;5;124mand_after\u001b[39m\u001b[38;5;124m'\u001b[39m, \u001b[38;5;124m'\u001b[39m\u001b[38;5;124mlev_after\u001b[39m\u001b[38;5;124m'\u001b[39m])\n\u001b[1;32m      2\u001b[0m df2 \u001b[38;5;241m=\u001b[39m pd\u001b[38;5;241m.\u001b[39mDataFrame(columns\u001b[38;5;241m=\u001b[39m[\u001b[38;5;124m'\u001b[39m\u001b[38;5;124mi/o in\u001b[39m\u001b[38;5;124m'\u001b[39m, \u001b[38;5;124m'\u001b[39m\u001b[38;5;124mi/o out\u001b[39m\u001b[38;5;124m'\u001b[39m, \u001b[38;5;124m'\u001b[39m\u001b[38;5;124mlat_before\u001b[39m\u001b[38;5;124m'\u001b[39m, \u001b[38;5;124m'\u001b[39m\u001b[38;5;124mnd_before\u001b[39m\u001b[38;5;124m'\u001b[39m, \u001b[38;5;124m'\u001b[39m\u001b[38;5;124mlev_before\u001b[39m\u001b[38;5;124m'\u001b[39m, \u001b[38;5;124m'\u001b[39m\u001b[38;5;124mlat_after\u001b[39m\u001b[38;5;124m'\u001b[39m, \u001b[38;5;124m'\u001b[39m\u001b[38;5;124mand_after\u001b[39m\u001b[38;5;124m'\u001b[39m, \u001b[38;5;124m'\u001b[39m\u001b[38;5;124mlev_after\u001b[39m\u001b[38;5;124m'\u001b[39m])\n\u001b[0;32m----> 3\u001b[0m n \u001b[38;5;241m=\u001b[39m \u001b[38;5;28;43mint\u001b[39;49m\u001b[43m(\u001b[49m\u001b[38;5;28;43minput\u001b[39;49m\u001b[43m(\u001b[49m\u001b[43m)\u001b[49m\u001b[43m)\u001b[49m\n\u001b[1;32m      4\u001b[0m func_generation(n)\n\u001b[1;32m      5\u001b[0m lupanov_synthesis_toabc(n)\n",
      "\u001b[0;31mValueError\u001b[0m: invalid literal for int() with base 10: ''"
     ]
    }
   ],
   "source": [
    "df1 = pd.DataFrame(columns=['i/o in', 'i/o out', 'lat_before', 'nd_before', 'lev_before', 'lat_after', 'and_after', 'lev_after'])\n",
    "df2 = pd.DataFrame(columns=['i/o in', 'i/o out', 'lat_before', 'nd_before', 'lev_before', 'lat_after', 'and_after', 'lev_after'])\n",
    "n = int(input())\n",
    "func_generation(n)\n",
    "lupanov_synthesis_toabc(n)\n",
    "analysis_lupanov = str(subprocess.run([\"./abc -c 'read /Users/michaelbrown/Documents/GitHub/aig_project/abc_translator/cirquit_lupanov.v; print_stats; resyn2; ps; wa /Users/michaelbrown/Documents/GitHub/aig_project/abc_translator/cirquit_lupanov_resyn.aig'\"], shell=True, capture_output=True).stdout)\n",
    "analysis_lupanov_resyn = str(subprocess.run([\"./abc -c 'read /Users/michaelbrown/Documents/GitHub/aig_project/abc_translator/cirquit_lupanov_resyn.aig; print_stats; resyn2;print_stats; wa /Users/michaelbrown/Documents/GitHub/aig_project/abc_translator/cirquit_lupanov_resyn.aig'\"], shell=True, capture_output=True).stdout)\n",
    "cascade_synthesis_toabc(n)\n",
    "analysis_cascade = str(subprocess.run([\"./abc -c 'read /Users/michaelbrown/Documents/GitHub/aig_project/abc_translator/cirquit_cascade.v;print_stats; resyn2;print_stats; wa /Users/michaelbrown/Documents/GitHub/aig_project/abc_translator/cirquit_cascade_resyn.aig'\"], shell=True, capture_output=True).stdout)\n",
    "df2 = append_to_dataframe(analysis_cascade, df2)\n",
    "#COMPLEXITY \n"
   ]
  },
  {
   "cell_type": "code",
   "execution_count": null,
   "id": "f03bd313-8446-4e59-b434-643370b32f50",
   "metadata": {},
   "outputs": [],
   "source": []
  },
  {
   "cell_type": "code",
   "execution_count": 53,
   "id": "1bab00e1-b60d-4a80-ae4d-d46faa88e10e",
   "metadata": {},
   "outputs": [],
   "source": [
    "cnt = 0\n",
    "df2 = append_to_dataframe_resyn_aig(analysis_lupanov_resyn, df1)\n",
    "df3 =  pd.DataFrame(columns=['i/o in', 'i/o out', 'lat_before', 'nd_before', 'lev_before', 'lat_after', 'and_after', 'lev_after'])\n",
    "while((sum(df3[\"nd_before\"].astype(int)-df3[\"and_after\"].astype(int)) != 0) or not (cnt)):\n",
    "    analysis_lupanov_resyn = str(subprocess.run([\"./abc -c 'read /Users/michaelbrown/Documents/GitHub/aig_project/abc_translator/cirquit_lupanov_resyn.aig; print_stats; resyn2;print_stats; wa /Users/michaelbrown/Documents/GitHub/aig_project/abc_translator/cirquit_lupanov_resyn.aig'\"], shell=True, capture_output=True).stdout)\n",
    "    df3 = append_to_dataframe_resyn_aig(analysis_lupanov_resyn, df1)\n",
    "    cnt+=1"
   ]
  },
  {
   "cell_type": "code",
   "execution_count": 54,
   "id": "49b4be72-cac6-48e3-b2be-d9b50f918606",
   "metadata": {},
   "outputs": [
    {
     "data": {
      "text/html": [
       "<div>\n",
       "<style scoped>\n",
       "    .dataframe tbody tr th:only-of-type {\n",
       "        vertical-align: middle;\n",
       "    }\n",
       "\n",
       "    .dataframe tbody tr th {\n",
       "        vertical-align: top;\n",
       "    }\n",
       "\n",
       "    .dataframe thead th {\n",
       "        text-align: right;\n",
       "    }\n",
       "</style>\n",
       "<table border=\"1\" class=\"dataframe\">\n",
       "  <thead>\n",
       "    <tr style=\"text-align: right;\">\n",
       "      <th></th>\n",
       "      <th>i/o in</th>\n",
       "      <th>i/o out</th>\n",
       "      <th>lat_before</th>\n",
       "      <th>nd_before</th>\n",
       "      <th>lev_before</th>\n",
       "      <th>lat_after</th>\n",
       "      <th>and_after</th>\n",
       "      <th>lev_after</th>\n",
       "    </tr>\n",
       "  </thead>\n",
       "  <tbody>\n",
       "    <tr>\n",
       "      <th>0</th>\n",
       "      <td>9</td>\n",
       "      <td>1</td>\n",
       "      <td>0</td>\n",
       "      <td>293</td>\n",
       "      <td>13</td>\n",
       "      <td>0</td>\n",
       "      <td>293</td>\n",
       "      <td>13</td>\n",
       "    </tr>\n",
       "  </tbody>\n",
       "</table>\n",
       "</div>"
      ],
      "text/plain": [
       "  i/o in i/o out lat_before nd_before lev_before lat_after and_after lev_after\n",
       "0      9       1          0       293         13         0       293        13"
      ]
     },
     "execution_count": 54,
     "metadata": {},
     "output_type": "execute_result"
    }
   ],
   "source": [
    "df3"
   ]
  },
  {
   "cell_type": "code",
   "execution_count": 55,
   "id": "492da8fa-a3f8-46c2-a350-46ec3be160d7",
   "metadata": {},
   "outputs": [
    {
     "data": {
      "text/html": [
       "<div>\n",
       "<style scoped>\n",
       "    .dataframe tbody tr th:only-of-type {\n",
       "        vertical-align: middle;\n",
       "    }\n",
       "\n",
       "    .dataframe tbody tr th {\n",
       "        vertical-align: top;\n",
       "    }\n",
       "\n",
       "    .dataframe thead th {\n",
       "        text-align: right;\n",
       "    }\n",
       "</style>\n",
       "<table border=\"1\" class=\"dataframe\">\n",
       "  <thead>\n",
       "    <tr style=\"text-align: right;\">\n",
       "      <th></th>\n",
       "      <th>i/o in</th>\n",
       "      <th>i/o out</th>\n",
       "      <th>lat_before</th>\n",
       "      <th>nd_before</th>\n",
       "      <th>lev_before</th>\n",
       "      <th>lat_after</th>\n",
       "      <th>and_after</th>\n",
       "      <th>lev_after</th>\n",
       "    </tr>\n",
       "  </thead>\n",
       "  <tbody>\n",
       "    <tr>\n",
       "      <th>0</th>\n",
       "      <td>9</td>\n",
       "      <td>1</td>\n",
       "      <td>0</td>\n",
       "      <td>321</td>\n",
       "      <td>14</td>\n",
       "      <td>0</td>\n",
       "      <td>304</td>\n",
       "      <td>13</td>\n",
       "    </tr>\n",
       "  </tbody>\n",
       "</table>\n",
       "</div>"
      ],
      "text/plain": [
       "  i/o in i/o out lat_before nd_before lev_before lat_after and_after lev_after\n",
       "0      9       1          0       321         14         0       304        13"
      ]
     },
     "execution_count": 55,
     "metadata": {},
     "output_type": "execute_result"
    }
   ],
   "source": [
    "df2"
   ]
  },
  {
   "cell_type": "code",
   "execution_count": 56,
   "id": "9d54e49b-e4ac-4139-a86b-35e7a4c7b2a0",
   "metadata": {},
   "outputs": [],
   "source": [
    "df4 = pd.concat([df2[['i/o in', 'i/o out', 'lat_before', 'nd_before', 'lev_before']],\\\n",
    "                 df3[['lat_after', 'and_after', 'lev_after']]], axis=1, join=\"inner\")"
   ]
  },
  {
   "cell_type": "markdown",
   "id": "23f6969f-4d16-4bbf-919f-80518c12677a",
   "metadata": {},
   "source": [
    "df4[\"cnt\"]=cnt"
   ]
  },
  {
   "cell_type": "code",
   "execution_count": 57,
   "id": "3f86e372-8764-4a4f-bf70-6e703ba9e050",
   "metadata": {},
   "outputs": [],
   "source": [
    "def create_result():\n",
    "    analysis_lupanov_resyn = str(subprocess.run([\"./abc -c 'read /Users/michaelbrown/Documents/GitHub/aig_project/abc_translator/cirquit_lupanov_resyn.aig; print_stats; resyn2;print_stats; wa /Users/michaelbrown/Documents/GitHub/aig_project/abc_translator/cirquit_lupanov_resyn.aig'\"], shell=True, capture_output=True).stdout)\n",
    "    cnt = 0\n",
    "    df3 = pd.DataFrame(columns=['i/o in', 'i/o out', 'lat_before', 'nd_before', 'lev_before', 'lat_after', 'and_after', 'lev_after'])\n",
    "    df2 = append_to_dataframe_resyn_aig(analysis_lupanov_resyn, df1)\n",
    "    while((sum(df3[\"nd_before\"].astype(int)-df3[\"and_after\"].astype(int)) != 0) or not (cnt)):\n",
    "        analysis_lupanov_resyn = str(subprocess.run([\"./abc -c 'read /Users/michaelbrown/Documents/GitHub/aig_project/abc_translator/cirquit_lupanov_resyn.aig; print_stats; resyn2;print_stats; wa /Users/michaelbrown/Documents/GitHub/aig_project/abc_translator/cirquit_lupanov_resyn.aig'\"], shell=True, capture_output=True).stdout)\n",
    "        df3 = append_to_dataframe_resyn_aig(analysis_lupanov_resyn, df1)\n",
    "        cnt+= 1\n",
    "    df4 = pd.concat([df2[['i/o in', 'i/o out', 'lat_before', 'nd_before', 'lev_before']],\\\n",
    "                 df3[['lat_after', 'and_after', 'lev_after']]], axis=1, join=\"inner\")\n",
    "    df4[\"cnt\"]=cnt\n",
    "    return df4"
   ]
  },
  {
   "cell_type": "code",
   "execution_count": 58,
   "id": "21a6f4df-1b25-4805-8753-bca0c01c01ba",
   "metadata": {},
   "outputs": [
    {
     "data": {
      "text/html": [
       "<div>\n",
       "<style scoped>\n",
       "    .dataframe tbody tr th:only-of-type {\n",
       "        vertical-align: middle;\n",
       "    }\n",
       "\n",
       "    .dataframe tbody tr th {\n",
       "        vertical-align: top;\n",
       "    }\n",
       "\n",
       "    .dataframe thead th {\n",
       "        text-align: right;\n",
       "    }\n",
       "</style>\n",
       "<table border=\"1\" class=\"dataframe\">\n",
       "  <thead>\n",
       "    <tr style=\"text-align: right;\">\n",
       "      <th></th>\n",
       "      <th>i/o in</th>\n",
       "      <th>i/o out</th>\n",
       "      <th>lat_before</th>\n",
       "      <th>nd_before</th>\n",
       "      <th>lev_before</th>\n",
       "      <th>lat_after</th>\n",
       "      <th>and_after</th>\n",
       "      <th>lev_after</th>\n",
       "      <th>cnt</th>\n",
       "    </tr>\n",
       "  </thead>\n",
       "  <tbody>\n",
       "    <tr>\n",
       "      <th>0</th>\n",
       "      <td>9</td>\n",
       "      <td>1</td>\n",
       "      <td>0</td>\n",
       "      <td>293</td>\n",
       "      <td>13</td>\n",
       "      <td>0</td>\n",
       "      <td>291</td>\n",
       "      <td>13</td>\n",
       "      <td>3</td>\n",
       "    </tr>\n",
       "  </tbody>\n",
       "</table>\n",
       "</div>"
      ],
      "text/plain": [
       "  i/o in i/o out lat_before nd_before lev_before lat_after and_after  \\\n",
       "0      9       1          0       293         13         0       291   \n",
       "\n",
       "  lev_after  cnt  \n",
       "0        13    3  "
      ]
     },
     "execution_count": 58,
     "metadata": {},
     "output_type": "execute_result"
    }
   ],
   "source": [
    "create_result()"
   ]
  },
  {
   "cell_type": "code",
   "execution_count": 23,
   "id": "1e6dfc91-1836-43ad-8e7e-a5bc9117910a",
   "metadata": {},
   "outputs": [
    {
     "data": {
      "text/html": [
       "<div>\n",
       "<style scoped>\n",
       "    .dataframe tbody tr th:only-of-type {\n",
       "        vertical-align: middle;\n",
       "    }\n",
       "\n",
       "    .dataframe tbody tr th {\n",
       "        vertical-align: top;\n",
       "    }\n",
       "\n",
       "    .dataframe thead th {\n",
       "        text-align: right;\n",
       "    }\n",
       "</style>\n",
       "<table border=\"1\" class=\"dataframe\">\n",
       "  <thead>\n",
       "    <tr style=\"text-align: right;\">\n",
       "      <th></th>\n",
       "      <th>lat_after</th>\n",
       "      <th>and_after</th>\n",
       "      <th>lev_after</th>\n",
       "    </tr>\n",
       "  </thead>\n",
       "  <tbody>\n",
       "    <tr>\n",
       "      <th>0</th>\n",
       "      <td>0</td>\n",
       "      <td>16</td>\n",
       "      <td>5</td>\n",
       "    </tr>\n",
       "  </tbody>\n",
       "</table>\n",
       "</div>"
      ],
      "text/plain": [
       "  lat_after and_after lev_after\n",
       "0         0        16         5"
      ]
     },
     "execution_count": 23,
     "metadata": {},
     "output_type": "execute_result"
    }
   ],
   "source": [
    "df3[['lat_after', 'and_after', 'lev_after']]"
   ]
  },
  {
   "cell_type": "code",
   "execution_count": null,
   "id": "2c3dffb5-485a-4e39-8980-a1c6113dbbb6",
   "metadata": {},
   "outputs": [],
   "source": []
  },
  {
   "cell_type": "code",
   "execution_count": 24,
   "id": "43d0fc81-d951-4d8d-96e9-990b169eb8b7",
   "metadata": {},
   "outputs": [
    {
     "data": {
      "text/plain": [
       "0"
      ]
     },
     "execution_count": 24,
     "metadata": {},
     "output_type": "execute_result"
    }
   ],
   "source": [
    "sum(df3[\"nd_before\"].astype(int)-df3[\"and_after\"].astype(int))"
   ]
  },
  {
   "cell_type": "code",
   "execution_count": 25,
   "id": "8dc6f978-feed-496a-8e30-15f5eb1507d0",
   "metadata": {},
   "outputs": [
    {
     "data": {
      "text/plain": [
       "1"
      ]
     },
     "execution_count": 25,
     "metadata": {},
     "output_type": "execute_result"
    }
   ],
   "source": [
    "cnt"
   ]
  },
  {
   "cell_type": "code",
   "execution_count": 26,
   "id": "533c05ae-8759-4e50-bc7f-2af0afe2717b",
   "metadata": {},
   "outputs": [],
   "source": [
    "cnt = 0\n",
    "\n",
    "while(sum(df3[\"nd_before\"].astype(int)-df3[\"and_after\"].astype(int)) != 0):\n",
    "    analysis_lupanov_resyn = str(subprocess.run([\"./abc -c 'read /Users/michaelbrown/Documents/GitHub/aig_project/abc_translator/cirquit_lupanov_resyn.aig; print_stats; resyn2;print_stats; wa /Users/michaelbrown/Documents/GitHub/aig_project/abc_translator/cirquit_lupanov_resyn.aig'\"], shell=True, capture_output=True).stdout)\n",
    "    df3 = append_to_dataframe_resyn_aig(analysis_lupanov_resyn, df3)\n",
    "    cnt+=1\n"
   ]
  },
  {
   "cell_type": "code",
   "execution_count": 27,
   "id": "e08ca969-a14a-41ff-b8fa-2581bfed7767",
   "metadata": {},
   "outputs": [
    {
     "data": {
      "text/plain": [
       "0"
      ]
     },
     "execution_count": 27,
     "metadata": {},
     "output_type": "execute_result"
    }
   ],
   "source": [
    "cnt"
   ]
  },
  {
   "cell_type": "code",
   "execution_count": 28,
   "id": "21e5ac1c-482e-45ba-b9c3-9ff8cb22f9e5",
   "metadata": {},
   "outputs": [
    {
     "data": {
      "text/plain": [
       "'b\\'ABC command line: \"read /Users/michaelbrown/Documents/GitHub/aig_project/abc_translator/cirquit_lupanov_resyn.aig; print_stats; resyn2;print_stats; wa /Users/michaelbrown/Documents/GitHub/aig_project/abc_translator/cirquit_lupanov_resyn.aig\".\\\\n\\\\n\\\\x1b[1;37m/Users/michaelbrown/Documents/GitHub/aig_project/abc_translator/cirquit_lupanov_resyn:\\\\x1b[0m i/o =    5/    1  lat =    0  and =     16  lev =  5\\\\n\\\\x1b[1;37m/Users/michaelbrown/Documents/GitHub/aig_project/abc_translator/cirquit_lupanov_resyn:\\\\x1b[0m i/o =    5/    1  lat =    0  and =     16  lev =  5\\\\n\\''"
      ]
     },
     "execution_count": 28,
     "metadata": {},
     "output_type": "execute_result"
    }
   ],
   "source": [
    "analysis_lupanov_resyn"
   ]
  },
  {
   "cell_type": "code",
   "execution_count": 29,
   "id": "c68b369c-e647-4b16-9566-6f4a87d81475",
   "metadata": {},
   "outputs": [],
   "source": [
    "analysis_lupanov_resyn = str(subprocess.run([\"./abc -c 'read /Users/michaelbrown/Documents/GitHub/aig_project/abc_translator/cirquit_lupanov_resyn.aig; print_stats; resyn2;print_stats; wa /Users/michaelbrown/Documents/GitHub/aig_project/abc_translator/cirquit_lupanov_resyn.aig'\"], shell=True, capture_output=True).stdout)\n"
   ]
  },
  {
   "cell_type": "code",
   "execution_count": 30,
   "id": "b10765b5-09c7-447e-9d2c-471255e94f88",
   "metadata": {},
   "outputs": [
    {
     "ename": "NameError",
     "evalue": "name 'wt' is not defined",
     "output_type": "error",
     "traceback": [
      "\u001b[0;31m---------------------------------------------------------------------------\u001b[0m",
      "\u001b[0;31mNameError\u001b[0m                                 Traceback (most recent call last)",
      "Cell \u001b[0;32mIn[30], line 1\u001b[0m\n\u001b[0;32m----> 1\u001b[0m \u001b[43mwt\u001b[49m\n",
      "\u001b[0;31mNameError\u001b[0m: name 'wt' is not defined"
     ]
    }
   ],
   "source": [
    "wt"
   ]
  },
  {
   "cell_type": "code",
   "execution_count": 31,
   "id": "939a314b-397b-492a-80dc-20d873e8ca4b",
   "metadata": {},
   "outputs": [
    {
     "name": "stdout",
     "output_type": "stream",
     "text": [
      "3\n",
      "4\n",
      "5\n",
      "6\n",
      "7\n",
      "8\n",
      "9\n"
     ]
    }
   ],
   "source": [
    "#Complexity\n",
    "fr1 = []\n",
    "fr2 = []\n",
    "fr3 = []\n",
    "fr4 = []\n",
    "#Level\n",
    "fr5 = []\n",
    "fr6 = []\n",
    "fr7 = []\n",
    "fr8 = []\n",
    "#complex_diff\n",
    "fr9 = []\n",
    "fr10 =[]\n",
    "fr11 = []\n",
    "\n",
    "for it in range(3, 10):\n",
    "    print(it)\n",
    "    wt = cirquit_analysis(it, 1)\n",
    "    fr1.append(wt[0][0])\n",
    "    fr2.append(wt[0][1])\n",
    "    fr3.append(wt[0][2])\n",
    "    fr4.append(wt[0][3])\n",
    "    fr5.append(wt[1][0])\n",
    "    fr6.append(wt[1][1])\n",
    "    fr7.append(wt[1][2])\n",
    "    fr8.append(wt[1][3])\n",
    "    fr9.append(wt[0][4])\n",
    "    fr10.append(wt[1][4])\n",
    "    fr11.append(wt[0][5])\n",
    "    \n",
    "    "
   ]
  },
  {
   "cell_type": "code",
   "execution_count": 34,
   "id": "9ab2f80b-4713-474e-94d1-8b2714855bb4",
   "metadata": {},
   "outputs": [
    {
     "data": {
      "text/plain": [
       "[nan, nan, nan, nan, nan, nan, nan]"
      ]
     },
     "execution_count": 34,
     "metadata": {},
     "output_type": "execute_result"
    }
   ],
   "source": [
    "fr1"
   ]
  },
  {
   "cell_type": "code",
   "execution_count": 33,
   "id": "1a542108-73c5-43d8-b9f5-4e9e13b3e76a",
   "metadata": {},
   "outputs": [
    {
     "data": {
      "image/png": "[encoded data removed]",
      "text/plain": [
       "<Figure size 640x480 with 3 Axes>"
      ]
     },
     "metadata": {},
     "output_type": "display_data"
    }
   ],
   "source": [
    "k = 10\n",
    "#oplup/min(oplup, opcas)\n",
    "#opcas/min(oplup, opcas)\n",
    "#\n",
    "plt.subplot(311)\n",
    "plt.plot(list(range(3, k)),fr1, label=\"comp optilupanov/min\")\n",
    "plt.plot(list(range(3, k)),fr2, label=\"comp opticascade/min\")\n",
    "plt.xticks(list(range(3, k)))\n",
    "plt.legend()\n",
    "plt.title(\"graph1\")\n",
    "plt.subplot(312)\n",
    "plt.plot(list(range(3, k)),fr3, label=\"comp optilupanov/lupanov\")\n",
    "plt.plot(list(range(3, k)),fr4, label=\"comp opticascade/cascade\")\n",
    "plt.xticks(list(range(3, k)))\n",
    "plt.legend()\n",
    "plt.title(\"graph2\")\n",
    "plt.subplot(313)\n",
    "plt.plot(list(range(3, k)),fr9, label=\"comp lupanov/min\")\n",
    "#plt.plot(list(range(5, 10)),fr10, label=\"lev opticascade/cas\")\n",
    "plt.xticks(list(range(3, k)))\n",
    "plt.legend()\n",
    "plt.title(\"graph3\")\n",
    "plt.show()\n",
    "\n"
   ]
  },
  {
   "cell_type": "code",
   "execution_count": 33,
   "id": "e2e048fe-0557-4fff-9cef-37265e66a11d",
   "metadata": {},
   "outputs": [
    {
     "ename": "ValueError",
     "evalue": "shape mismatch: objects cannot be broadcast to a single shape.  Mismatch is between arg 0 with shape (3,) and arg 1 with shape (7,).",
     "output_type": "error",
     "traceback": [
      "\u001b[0;31m---------------------------------------------------------------------------\u001b[0m",
      "\u001b[0;31mValueError\u001b[0m                                Traceback (most recent call last)",
      "Cell \u001b[0;32mIn[33], line 7\u001b[0m\n\u001b[1;32m      5\u001b[0m x \u001b[38;5;241m=\u001b[39m (\u001b[38;5;28mrange\u001b[39m(\u001b[38;5;241m10\u001b[39m, \u001b[38;5;241m13\u001b[39m))\n\u001b[1;32m      6\u001b[0m X_axis \u001b[38;5;241m=\u001b[39m np\u001b[38;5;241m.\u001b[39marange(\u001b[38;5;28mlen\u001b[39m(x))\n\u001b[0;32m----> 7\u001b[0m \u001b[43mplt\u001b[49m\u001b[38;5;241;43m.\u001b[39;49m\u001b[43mbar\u001b[49m\u001b[43m(\u001b[49m\u001b[43mX_axis\u001b[49m\u001b[43m \u001b[49m\u001b[38;5;241;43m-\u001b[39;49m\u001b[43m \u001b[49m\u001b[38;5;241;43m0.2\u001b[39;49m\u001b[43m,\u001b[49m\u001b[43m \u001b[49m\u001b[43mfr11\u001b[49m\u001b[43m,\u001b[49m\u001b[38;5;241;43m0.4\u001b[39;49m\u001b[43m,\u001b[49m\u001b[43m \u001b[49m\u001b[43mlabel\u001b[49m\u001b[38;5;241;43m=\u001b[39;49m\u001b[38;5;124;43m\"\u001b[39;49m\u001b[38;5;124;43mcascade\u001b[39;49m\u001b[38;5;124;43m\"\u001b[39;49m\u001b[43m)\u001b[49m\n\u001b[1;32m      8\u001b[0m plt\u001b[38;5;241m.\u001b[39mbar(X_axis \u001b[38;5;241m+\u001b[39m \u001b[38;5;241m0.2\u001b[39m, fr9,\u001b[38;5;241m0.4\u001b[39m, color \u001b[38;5;241m=\u001b[39m \u001b[38;5;124m\"\u001b[39m\u001b[38;5;124morange\u001b[39m\u001b[38;5;124m\"\u001b[39m, label\u001b[38;5;241m=\u001b[39m\u001b[38;5;124m\"\u001b[39m\u001b[38;5;124mlupanov\u001b[39m\u001b[38;5;124m\"\u001b[39m)\n\u001b[1;32m      9\u001b[0m plt\u001b[38;5;241m.\u001b[39mxticks(X_axis,x)\n",
      "File \u001b[0;32m~/CMC/lib/python3.11/site-packages/matplotlib/pyplot.py:2742\u001b[0m, in \u001b[0;36mbar\u001b[0;34m(x, height, width, bottom, align, data, **kwargs)\u001b[0m\n\u001b[1;32m   2731\u001b[0m \u001b[38;5;129m@_copy_docstring_and_deprecators\u001b[39m(Axes\u001b[38;5;241m.\u001b[39mbar)\n\u001b[1;32m   2732\u001b[0m \u001b[38;5;28;01mdef\u001b[39;00m \u001b[38;5;21mbar\u001b[39m(\n\u001b[1;32m   2733\u001b[0m     x: \u001b[38;5;28mfloat\u001b[39m \u001b[38;5;241m|\u001b[39m ArrayLike,\n\u001b[0;32m   (...)\u001b[0m\n\u001b[1;32m   2740\u001b[0m     \u001b[38;5;241m*\u001b[39m\u001b[38;5;241m*\u001b[39mkwargs,\n\u001b[1;32m   2741\u001b[0m ) \u001b[38;5;241m-\u001b[39m\u001b[38;5;241m>\u001b[39m BarContainer:\n\u001b[0;32m-> 2742\u001b[0m     \u001b[38;5;28;01mreturn\u001b[39;00m \u001b[43mgca\u001b[49m\u001b[43m(\u001b[49m\u001b[43m)\u001b[49m\u001b[38;5;241;43m.\u001b[39;49m\u001b[43mbar\u001b[49m\u001b[43m(\u001b[49m\n\u001b[1;32m   2743\u001b[0m \u001b[43m        \u001b[49m\u001b[43mx\u001b[49m\u001b[43m,\u001b[49m\n\u001b[1;32m   2744\u001b[0m \u001b[43m        \u001b[49m\u001b[43mheight\u001b[49m\u001b[43m,\u001b[49m\n\u001b[1;32m   2745\u001b[0m \u001b[43m        \u001b[49m\u001b[43mwidth\u001b[49m\u001b[38;5;241;43m=\u001b[39;49m\u001b[43mwidth\u001b[49m\u001b[43m,\u001b[49m\n\u001b[1;32m   2746\u001b[0m \u001b[43m        \u001b[49m\u001b[43mbottom\u001b[49m\u001b[38;5;241;43m=\u001b[39;49m\u001b[43mbottom\u001b[49m\u001b[43m,\u001b[49m\n\u001b[1;32m   2747\u001b[0m \u001b[43m        \u001b[49m\u001b[43malign\u001b[49m\u001b[38;5;241;43m=\u001b[39;49m\u001b[43malign\u001b[49m\u001b[43m,\u001b[49m\n\u001b[1;32m   2748\u001b[0m \u001b[43m        \u001b[49m\u001b[38;5;241;43m*\u001b[39;49m\u001b[38;5;241;43m*\u001b[39;49m\u001b[43m(\u001b[49m\u001b[43m{\u001b[49m\u001b[38;5;124;43m\"\u001b[39;49m\u001b[38;5;124;43mdata\u001b[39;49m\u001b[38;5;124;43m\"\u001b[39;49m\u001b[43m:\u001b[49m\u001b[43m \u001b[49m\u001b[43mdata\u001b[49m\u001b[43m}\u001b[49m\u001b[43m \u001b[49m\u001b[38;5;28;43;01mif\u001b[39;49;00m\u001b[43m \u001b[49m\u001b[43mdata\u001b[49m\u001b[43m \u001b[49m\u001b[38;5;129;43;01mis\u001b[39;49;00m\u001b[43m \u001b[49m\u001b[38;5;129;43;01mnot\u001b[39;49;00m\u001b[43m \u001b[49m\u001b[38;5;28;43;01mNone\u001b[39;49;00m\u001b[43m \u001b[49m\u001b[38;5;28;43;01melse\u001b[39;49;00m\u001b[43m \u001b[49m\u001b[43m{\u001b[49m\u001b[43m}\u001b[49m\u001b[43m)\u001b[49m\u001b[43m,\u001b[49m\n\u001b[1;32m   2749\u001b[0m \u001b[43m        \u001b[49m\u001b[38;5;241;43m*\u001b[39;49m\u001b[38;5;241;43m*\u001b[39;49m\u001b[43mkwargs\u001b[49m\u001b[43m,\u001b[49m\n\u001b[1;32m   2750\u001b[0m \u001b[43m    \u001b[49m\u001b[43m)\u001b[49m\n",
      "File \u001b[0;32m~/CMC/lib/python3.11/site-packages/matplotlib/__init__.py:1465\u001b[0m, in \u001b[0;36m_preprocess_data.<locals>.inner\u001b[0;34m(ax, data, *args, **kwargs)\u001b[0m\n\u001b[1;32m   1462\u001b[0m \u001b[38;5;129m@functools\u001b[39m\u001b[38;5;241m.\u001b[39mwraps(func)\n\u001b[1;32m   1463\u001b[0m \u001b[38;5;28;01mdef\u001b[39;00m \u001b[38;5;21minner\u001b[39m(ax, \u001b[38;5;241m*\u001b[39margs, data\u001b[38;5;241m=\u001b[39m\u001b[38;5;28;01mNone\u001b[39;00m, \u001b[38;5;241m*\u001b[39m\u001b[38;5;241m*\u001b[39mkwargs):\n\u001b[1;32m   1464\u001b[0m     \u001b[38;5;28;01mif\u001b[39;00m data \u001b[38;5;129;01mis\u001b[39;00m \u001b[38;5;28;01mNone\u001b[39;00m:\n\u001b[0;32m-> 1465\u001b[0m         \u001b[38;5;28;01mreturn\u001b[39;00m \u001b[43mfunc\u001b[49m\u001b[43m(\u001b[49m\u001b[43max\u001b[49m\u001b[43m,\u001b[49m\u001b[43m \u001b[49m\u001b[38;5;241;43m*\u001b[39;49m\u001b[38;5;28;43mmap\u001b[39;49m\u001b[43m(\u001b[49m\u001b[43msanitize_sequence\u001b[49m\u001b[43m,\u001b[49m\u001b[43m \u001b[49m\u001b[43margs\u001b[49m\u001b[43m)\u001b[49m\u001b[43m,\u001b[49m\u001b[43m \u001b[49m\u001b[38;5;241;43m*\u001b[39;49m\u001b[38;5;241;43m*\u001b[39;49m\u001b[43mkwargs\u001b[49m\u001b[43m)\u001b[49m\n\u001b[1;32m   1467\u001b[0m     bound \u001b[38;5;241m=\u001b[39m new_sig\u001b[38;5;241m.\u001b[39mbind(ax, \u001b[38;5;241m*\u001b[39margs, \u001b[38;5;241m*\u001b[39m\u001b[38;5;241m*\u001b[39mkwargs)\n\u001b[1;32m   1468\u001b[0m     auto_label \u001b[38;5;241m=\u001b[39m (bound\u001b[38;5;241m.\u001b[39marguments\u001b[38;5;241m.\u001b[39mget(label_namer)\n\u001b[1;32m   1469\u001b[0m                   \u001b[38;5;129;01mor\u001b[39;00m bound\u001b[38;5;241m.\u001b[39mkwargs\u001b[38;5;241m.\u001b[39mget(label_namer))\n",
      "File \u001b[0;32m~/CMC/lib/python3.11/site-packages/matplotlib/axes/_axes.py:2457\u001b[0m, in \u001b[0;36mAxes.bar\u001b[0;34m(self, x, height, width, bottom, align, **kwargs)\u001b[0m\n\u001b[1;32m   2454\u001b[0m     \u001b[38;5;28;01mif\u001b[39;00m yerr \u001b[38;5;129;01mis\u001b[39;00m \u001b[38;5;129;01mnot\u001b[39;00m \u001b[38;5;28;01mNone\u001b[39;00m:\n\u001b[1;32m   2455\u001b[0m         yerr \u001b[38;5;241m=\u001b[39m \u001b[38;5;28mself\u001b[39m\u001b[38;5;241m.\u001b[39m_convert_dx(yerr, y0, y, \u001b[38;5;28mself\u001b[39m\u001b[38;5;241m.\u001b[39mconvert_yunits)\n\u001b[0;32m-> 2457\u001b[0m x, height, width, y, linewidth, hatch \u001b[38;5;241m=\u001b[39m \u001b[43mnp\u001b[49m\u001b[38;5;241;43m.\u001b[39;49m\u001b[43mbroadcast_arrays\u001b[49m\u001b[43m(\u001b[49m\n\u001b[1;32m   2458\u001b[0m \u001b[43m    \u001b[49m\u001b[38;5;66;43;03m# Make args iterable too.\u001b[39;49;00m\n\u001b[1;32m   2459\u001b[0m \u001b[43m    \u001b[49m\u001b[43mnp\u001b[49m\u001b[38;5;241;43m.\u001b[39;49m\u001b[43matleast_1d\u001b[49m\u001b[43m(\u001b[49m\u001b[43mx\u001b[49m\u001b[43m)\u001b[49m\u001b[43m,\u001b[49m\u001b[43m \u001b[49m\u001b[43mheight\u001b[49m\u001b[43m,\u001b[49m\u001b[43m \u001b[49m\u001b[43mwidth\u001b[49m\u001b[43m,\u001b[49m\u001b[43m \u001b[49m\u001b[43my\u001b[49m\u001b[43m,\u001b[49m\u001b[43m \u001b[49m\u001b[43mlinewidth\u001b[49m\u001b[43m,\u001b[49m\u001b[43m \u001b[49m\u001b[43mhatch\u001b[49m\u001b[43m)\u001b[49m\n\u001b[1;32m   2461\u001b[0m \u001b[38;5;66;03m# Now that units have been converted, set the tick locations.\u001b[39;00m\n\u001b[1;32m   2462\u001b[0m \u001b[38;5;28;01mif\u001b[39;00m orientation \u001b[38;5;241m==\u001b[39m \u001b[38;5;124m'\u001b[39m\u001b[38;5;124mvertical\u001b[39m\u001b[38;5;124m'\u001b[39m:\n",
      "File \u001b[0;32m~/CMC/lib/python3.11/site-packages/numpy/lib/stride_tricks.py:540\u001b[0m, in \u001b[0;36mbroadcast_arrays\u001b[0;34m(subok, *args)\u001b[0m\n\u001b[1;32m    533\u001b[0m \u001b[38;5;66;03m# nditer is not used here to avoid the limit of 32 arrays.\u001b[39;00m\n\u001b[1;32m    534\u001b[0m \u001b[38;5;66;03m# Otherwise, something like the following one-liner would suffice:\u001b[39;00m\n\u001b[1;32m    535\u001b[0m \u001b[38;5;66;03m# return np.nditer(args, flags=['multi_index', 'zerosize_ok'],\u001b[39;00m\n\u001b[1;32m    536\u001b[0m \u001b[38;5;66;03m#                  order='C').itviews\u001b[39;00m\n\u001b[1;32m    538\u001b[0m args \u001b[38;5;241m=\u001b[39m [np\u001b[38;5;241m.\u001b[39marray(_m, copy\u001b[38;5;241m=\u001b[39m\u001b[38;5;28;01mFalse\u001b[39;00m, subok\u001b[38;5;241m=\u001b[39msubok) \u001b[38;5;28;01mfor\u001b[39;00m _m \u001b[38;5;129;01min\u001b[39;00m args]\n\u001b[0;32m--> 540\u001b[0m shape \u001b[38;5;241m=\u001b[39m \u001b[43m_broadcast_shape\u001b[49m\u001b[43m(\u001b[49m\u001b[38;5;241;43m*\u001b[39;49m\u001b[43margs\u001b[49m\u001b[43m)\u001b[49m\n\u001b[1;32m    542\u001b[0m \u001b[38;5;28;01mif\u001b[39;00m \u001b[38;5;28mall\u001b[39m(array\u001b[38;5;241m.\u001b[39mshape \u001b[38;5;241m==\u001b[39m shape \u001b[38;5;28;01mfor\u001b[39;00m array \u001b[38;5;129;01min\u001b[39;00m args):\n\u001b[1;32m    543\u001b[0m     \u001b[38;5;66;03m# Common case where nothing needs to be broadcasted.\u001b[39;00m\n\u001b[1;32m    544\u001b[0m     \u001b[38;5;28;01mreturn\u001b[39;00m args\n",
      "File \u001b[0;32m~/CMC/lib/python3.11/site-packages/numpy/lib/stride_tricks.py:422\u001b[0m, in \u001b[0;36m_broadcast_shape\u001b[0;34m(*args)\u001b[0m\n\u001b[1;32m    417\u001b[0m \u001b[38;5;250m\u001b[39m\u001b[38;5;124;03m\"\"\"Returns the shape of the arrays that would result from broadcasting the\u001b[39;00m\n\u001b[1;32m    418\u001b[0m \u001b[38;5;124;03msupplied arrays against each other.\u001b[39;00m\n\u001b[1;32m    419\u001b[0m \u001b[38;5;124;03m\"\"\"\u001b[39;00m\n\u001b[1;32m    420\u001b[0m \u001b[38;5;66;03m# use the old-iterator because np.nditer does not handle size 0 arrays\u001b[39;00m\n\u001b[1;32m    421\u001b[0m \u001b[38;5;66;03m# consistently\u001b[39;00m\n\u001b[0;32m--> 422\u001b[0m b \u001b[38;5;241m=\u001b[39m \u001b[43mnp\u001b[49m\u001b[38;5;241;43m.\u001b[39;49m\u001b[43mbroadcast\u001b[49m\u001b[43m(\u001b[49m\u001b[38;5;241;43m*\u001b[39;49m\u001b[43margs\u001b[49m\u001b[43m[\u001b[49m\u001b[43m:\u001b[49m\u001b[38;5;241;43m32\u001b[39;49m\u001b[43m]\u001b[49m\u001b[43m)\u001b[49m\n\u001b[1;32m    423\u001b[0m \u001b[38;5;66;03m# unfortunately, it cannot handle 32 or more arguments directly\u001b[39;00m\n\u001b[1;32m    424\u001b[0m \u001b[38;5;28;01mfor\u001b[39;00m pos \u001b[38;5;129;01min\u001b[39;00m \u001b[38;5;28mrange\u001b[39m(\u001b[38;5;241m32\u001b[39m, \u001b[38;5;28mlen\u001b[39m(args), \u001b[38;5;241m31\u001b[39m):\n\u001b[1;32m    425\u001b[0m     \u001b[38;5;66;03m# ironically, np.broadcast does not properly handle np.broadcast\u001b[39;00m\n\u001b[1;32m    426\u001b[0m     \u001b[38;5;66;03m# objects (it treats them as scalars)\u001b[39;00m\n\u001b[1;32m    427\u001b[0m     \u001b[38;5;66;03m# use broadcasting to avoid allocating the full array\u001b[39;00m\n",
      "\u001b[0;31mValueError\u001b[0m: shape mismatch: objects cannot be broadcast to a single shape.  Mismatch is between arg 0 with shape (3,) and arg 1 with shape (7,)."
     ]
    },
    {
     "data": {
      "image/png": "[encoded data removed]",
      "text/plain": [
       "<Figure size 640x480 with 1 Axes>"
      ]
     },
     "metadata": {},
     "output_type": "display_data"
    }
   ],
   "source": [
    "import numpy as np \n",
    "import matplotlib.pyplot as plt \n",
    "  \n",
    "\n",
    "x = (range(10, 13))\n",
    "X_axis = np.arange(len(x))\n",
    "plt.bar(X_axis - 0.2, fr11,0.4, label=\"cascade\")\n",
    "plt.bar(X_axis + 0.2, fr9,0.4, color = \"orange\", label=\"lupanov\")\n",
    "plt.xticks(X_axis,x)\n",
    "plt.legend()\n",
    "plt.title(\"Comparison of Cascade and Lupanov\")\n",
    "plt.show()\n",
    "plt.show()"
   ]
  },
  {
   "cell_type": "code",
   "execution_count": null,
   "id": "ee527c11-fcc6-486d-98c8-e3b1e10e0ce6",
   "metadata": {},
   "outputs": [],
   "source": []
  },
  {
   "cell_type": "code",
   "execution_count": null,
   "id": "9aea463d-a7f8-4b02-a6a2-b6ac5c3abbf1",
   "metadata": {},
   "outputs": [],
   "source": []
  },
  {
   "cell_type": "code",
   "execution_count": null,
   "id": "b3a4767c-ec40-411a-8f52-94c6c59faa34",
   "metadata": {},
   "outputs": [],
   "source": []
  }
 ],
 "metadata": {
  "kernelspec": {
   "display_name": "Python 3 (ipykernel)",
   "language": "python",
   "name": "python3"
  },
  "language_info": {
   "codemirror_mode": {
    "name": "ipython",
    "version": 3
   },
   "file_extension": ".py",
   "mimetype": "text/x-python",
   "name": "python",
   "nbconvert_exporter": "python",
   "pygments_lexer": "ipython3",
   "version": "3.12.1"
  }
 },
 "nbformat": 4,
 "nbformat_minor": 5
}
