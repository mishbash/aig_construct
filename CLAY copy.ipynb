{
 "cells": [
  {
   "cell_type": "code",
   "execution_count": 1,
   "id": "df7b3c35-ccdd-49a3-a1a5-68fc5a17e39b",
   "metadata": {},
   "outputs": [],
   "source": [
    "import os\n",
    "\n",
    "import subprocess\n",
    "\n",
    "import random"
   ]
  },
  {
   "cell_type": "code",
   "execution_count": 2,
   "id": "12c43121-cdbd-45c2-b690-9fe728b870df",
   "metadata": {},
   "outputs": [],
   "source": [
    "filename=os.path.realpath(\"/Users/michaelbrown/Documents/GitHub/aig_project/result\")\n"
   ]
  },
  {
   "cell_type": "code",
   "execution_count": 3,
   "id": "a1e5709d-320d-428f-9ccf-62c325279ca3",
   "metadata": {},
   "outputs": [
    {
     "data": {
      "text/plain": [
       "'/Users/michaelbrown/Documents/GitHub/aig_project/result'"
      ]
     },
     "execution_count": 3,
     "metadata": {},
     "output_type": "execute_result"
    }
   ],
   "source": [
    "filename"
   ]
  },
  {
   "cell_type": "code",
   "execution_count": 4,
   "id": "ee5f4bb5-084b-4321-93d1-06297e2a7f2c",
   "metadata": {},
   "outputs": [],
   "source": [
    "n = 3\n",
    "output = [random.randint(0, 1) for _ in range(2**n)]"
   ]
  },
  {
   "cell_type": "code",
   "execution_count": 5,
   "id": "628e22a1-b6da-4bd9-bea3-48d406430ba4",
   "metadata": {},
   "outputs": [],
   "source": [
    "output = ''.join(map(str,output))"
   ]
  },
  {
   "cell_type": "code",
   "execution_count": 6,
   "id": "c2fbd9a2-50ed-4fa0-b63d-84ada9d7b239",
   "metadata": {},
   "outputs": [
    {
     "data": {
      "text/plain": [
       "'00010111'"
      ]
     },
     "execution_count": 6,
     "metadata": {},
     "output_type": "execute_result"
    }
   ],
   "source": [
    "output"
   ]
  },
  {
   "cell_type": "code",
   "execution_count": 7,
   "id": "37981518-f3b8-40ab-a235-c602b9c7665e",
   "metadata": {},
   "outputs": [],
   "source": [
    "with open(\"/Users/michaelbrown/Documents/GitHub/aig_project/src/input.txt\", \"w\") as file:\n",
    "    file.write(output)\n",
    "    file.close"
   ]
  },
  {
   "cell_type": "code",
   "execution_count": 8,
   "id": "9f2c0e1b-8bed-4907-855c-451efd130003",
   "metadata": {},
   "outputs": [
    {
     "data": {
      "text/plain": [
       "'00010111'"
      ]
     },
     "execution_count": 8,
     "metadata": {},
     "output_type": "execute_result"
    }
   ],
   "source": [
    "output"
   ]
  },
  {
   "cell_type": "code",
   "execution_count": 9,
   "id": "059322cf-5277-4ab3-81a2-221b9685eabc",
   "metadata": {},
   "outputs": [],
   "source": [
    "current_dir = os.path.dirname(filename)"
   ]
  },
  {
   "cell_type": "code",
   "execution_count": 10,
   "id": "92a04ae4-528b-4d40-a4e2-82e2dc410078",
   "metadata": {},
   "outputs": [
    {
     "data": {
      "text/plain": [
       "'/Users/michaelbrown/Documents/GitHub/aig_project'"
      ]
     },
     "execution_count": 10,
     "metadata": {},
     "output_type": "execute_result"
    }
   ],
   "source": [
    "current_dir"
   ]
  },
  {
   "cell_type": "code",
   "execution_count": 11,
   "id": "526271a9-4efb-4d26-ad8e-c48653b98437",
   "metadata": {},
   "outputs": [],
   "source": [
    "result = subprocess.run([filename], shell=True, stdout=subprocess.PIPE, stderr=subprocess.STDOUT)"
   ]
  },
  {
   "cell_type": "code",
   "execution_count": 12,
   "id": "a13ddbd8-c56d-479f-85ea-6239b79ba1f9",
   "metadata": {},
   "outputs": [
    {
     "data": {
      "text/plain": [
       "b'19 22 0 1 0 1 0 1 1 1 1 4 0 2 0 5 0 2 0 4 0 2 1 5 0 2 1 3 0 3 0 3 1 3 1 9 0 9 0 12 0 10 0 13 0 13 0 7 0 7 0 15 1 8 1 16 1 16 1 17 1 9 1 18 1 18 1 19 0 11 0 14 1 20 1 21 1 21 1 \\n'"
      ]
     },
     "execution_count": 12,
     "metadata": {},
     "output_type": "execute_result"
    }
   ],
   "source": [
    "result.stdout\n"
   ]
  },
  {
   "cell_type": "code",
   "execution_count": 13,
   "id": "4c4033c4-4c63-4491-9b85-6782a362769a",
   "metadata": {},
   "outputs": [],
   "source": [
    "result = subprocess.run([filename], shell=True, check=True, stdout=subprocess.PIPE, stderr=subprocess.STDOUT)\n",
    "result.stdout = str(n) + ' ' + str(result.stdout)[2:-3]\n"
   ]
  },
  {
   "cell_type": "code",
   "execution_count": 14,
   "id": "69c1a61f-cff0-42ee-9727-9261ba31b972",
   "metadata": {},
   "outputs": [
    {
     "data": {
      "text/plain": [
       "'3 19 22 0 1 0 1 0 1 1 1 1 4 0 2 0 5 0 2 0 4 0 2 1 5 0 2 1 3 0 3 0 3 1 3 1 9 0 9 0 12 0 10 0 13 0 13 0 7 0 7 0 15 1 8 1 16 1 16 1 17 1 9 1 18 1 18 1 19 0 11 0 14 1 20 1 21 1 21 1 '"
      ]
     },
     "execution_count": 14,
     "metadata": {},
     "output_type": "execute_result"
    }
   ],
   "source": [
    "result.stdout"
   ]
  },
  {
   "cell_type": "code",
   "execution_count": 16,
   "id": "4c37d3c3-b54b-4587-ae45-a52c9bc12f72",
   "metadata": {},
   "outputs": [],
   "source": [
    "output_text = result.stdout\n",
    "with open(\"/Users/michaelbrown/Documents/GitHub/aig_project/abc_translator/output.txt\", \"w\") as file:\n",
    "    file.write(output_text)"
   ]
  },
  {
   "cell_type": "code",
   "execution_count": 17,
   "id": "1e626d12-da2c-4657-b885-d9ad865d60c0",
   "metadata": {},
   "outputs": [
    {
     "data": {
      "text/plain": [
       "'3 19 22 0 1 0 1 0 1 1 1 1 4 0 2 0 5 0 2 0 4 0 2 1 5 0 2 1 3 0 3 0 3 1 3 1 9 0 9 0 12 0 10 0 13 0 13 0 7 0 7 0 15 1 8 1 16 1 16 1 17 1 9 1 18 1 18 1 19 0 11 0 14 1 20 1 21 1 21 1 '"
      ]
     },
     "execution_count": 17,
     "metadata": {},
     "output_type": "execute_result"
    }
   ],
   "source": [
    "output_text"
   ]
  },
  {
   "cell_type": "code",
   "execution_count": 18,
   "id": "82be4aac-e462-4062-89de-d647043412de",
   "metadata": {
    "scrolled": true
   },
   "outputs": [
    {
     "data": {
      "text/plain": [
       "'3 19 22 0 1 0 1 0 1 1 1 1 4 0 2 0 5 0 2 0 4 0 2 1 5 0 2 1 3 0 3 0 3 1 3 1 9 0 9 0 12 0 10 0 13 0 13 0 7 0 7 0 15 1 8 1 16 1 16 1 17 1 9 1 18 1 18 1 19 0 11 0 14 1 20 1 21 1 21 1 '"
      ]
     },
     "execution_count": 18,
     "metadata": {},
     "output_type": "execute_result"
    }
   ],
   "source": [
    "result.stdout"
   ]
  },
  {
   "cell_type": "code",
   "execution_count": 19,
   "id": "2939e79f-7c6e-4b0d-875e-e03aa1be8452",
   "metadata": {},
   "outputs": [],
   "source": [
    "\n",
    "\n",
    "cmd = [\"python3\", \"/Users/michaelbrown/Documents/GitHub/aig_project/abc_translator/aig2verilog1.py\", \"example\", \"./abc_translator/output.txt\", \"./abc_translator/cirquit.v\"]\n",
    "result = subprocess.run(cmd, stdout=subprocess.PIPE, stderr=subprocess.STDOUT)\n"
   ]
  },
  {
   "cell_type": "code",
   "execution_count": 20,
   "id": "2ad2f368-54aa-48b1-b600-46a90862d99f",
   "metadata": {},
   "outputs": [
    {
     "data": {
      "text/plain": [
       "b''"
      ]
     },
     "execution_count": 20,
     "metadata": {},
     "output_type": "execute_result"
    }
   ],
   "source": [
    "\n",
    "result.stdout"
   ]
  },
  {
   "cell_type": "code",
   "execution_count": 1,
   "id": "363efe2c-02fb-4176-84c9-efeaab1c328a",
   "metadata": {},
   "outputs": [
    {
     "ename": "NameError",
     "evalue": "name 'subprocess' is not defined",
     "output_type": "error",
     "traceback": [
      "\u001b[0;31m---------------------------------------------------------------------------\u001b[0m",
      "\u001b[0;31mNameError\u001b[0m                                 Traceback (most recent call last)",
      "Cell \u001b[0;32mIn[1], line 1\u001b[0m\n\u001b[0;32m----> 1\u001b[0m \u001b[43msubprocess\u001b[49m\u001b[38;5;241m.\u001b[39mrun([\u001b[38;5;124m\"\u001b[39m\u001b[38;5;124m./abc -c \u001b[39m\u001b[38;5;124m'\u001b[39m\u001b[38;5;124mread ./cirquit.v;resyn;print_stats\u001b[39m\u001b[38;5;124m'\u001b[39m\u001b[38;5;124m\"\u001b[39m], shell\u001b[38;5;241m=\u001b[39m\u001b[38;5;28;01mTrue\u001b[39;00m)\n",
      "\u001b[0;31mNameError\u001b[0m: name 'subprocess' is not defined"
     ]
    }
   ],
   "source": [
    "subprocess.run([\"./abc -c 'read ./cirquit.v;resyn;print_stats'\"], shell=True)"
   ]
  },
  {
   "cell_type": "markdown",
   "id": "ccb27215-56dc-4f91-8129-20c934899bfa",
   "metadata": {},
   "source": [
    "\n",
    "                                                            #ABC"
   ]
  },
  {
   "cell_type": "code",
   "execution_count": 21,
   "id": "d89db0a7-36aa-42ec-a993-8a3d5ab8d8f7",
   "metadata": {},
   "outputs": [],
   "source": [
    "cirquit_path = \"/Users/michaelbrown/Documents/GitHub/aig_project/abc_translator/cirquit.v\"\n",
    "filename2=os.path.realpath(\"/Users/michaelbrown/abc/abc\")"
   ]
  },
  {
   "cell_type": "code",
   "execution_count": 22,
   "id": "c09697f6-6d3f-4e50-b54f-cd5db9bac84f",
   "metadata": {},
   "outputs": [
    {
     "name": "stdout",
     "output_type": "stream",
     "text": [
      "ABC command line: \"read /Users/michaelbrown/Documents/GitHub/aig_project/abc_translator/cirquit.v;print_stats\".\n",
      "\n",
      "\u001b[1;37mexample                       :\u001b[0m i/o =    3/    1  lat =    0  nd =    20  edge =     29  aig  =     9  lev = 11\n"
     ]
    }
   ],
   "source": [
    "subprocess.run([filename2 + \" -c 'read \"+cirquit_path+\";print_stats'\"], shell=True).stdout"
   ]
  },
  {
   "cell_type": "code",
   "execution_count": 23,
   "id": "25ed8c2c-d407-41d1-b9ef-8dcaf6dc66dd",
   "metadata": {},
   "outputs": [
    {
     "name": "stderr",
     "output_type": "stream",
     "text": [
      "/bin/sh: /Users/michaelbrown/abc/abc.rc; /Users/michaelbrown/abc/abc: No such file or directory\n"
     ]
    }
   ],
   "source": [
    "subprocess.run(['source \"/Users/michaelbrown/abc/abc.rc; \"'+ \"/Users/michaelbrown/abc/abc\" + \" -c 'read \"+cirquit_path+\";print_stats'\"], shell=True).stdout"
   ]
  },
  {
   "cell_type": "code",
   "execution_count": 24,
   "id": "bc78741b-61b9-4b28-8d42-b16550cb9783",
   "metadata": {},
   "outputs": [],
   "source": [
    "cmd ='source /Users/michaelbrown/abc/abc.rc; '+ \"/Users/michaelbrown/abc/abc\"+ \" -c 'read \"+cirquit_path+\";print_stats'\""
   ]
  },
  {
   "cell_type": "code",
   "execution_count": 25,
   "id": "7b289db6-0614-4256-b6fc-8efc122c542d",
   "metadata": {},
   "outputs": [
    {
     "data": {
      "text/plain": [
       "\"source /Users/michaelbrown/abc/abc.rc; /Users/michaelbrown/abc/abc -c 'read /Users/michaelbrown/Documents/GitHub/aig_project/abc_translator/cirquit.v;print_stats'\""
      ]
     },
     "execution_count": 25,
     "metadata": {},
     "output_type": "execute_result"
    }
   ],
   "source": [
    "cmd"
   ]
  },
  {
   "cell_type": "code",
   "execution_count": 26,
   "id": "72ef8d7d-bbf7-4023-92f3-d1d2b9760092",
   "metadata": {},
   "outputs": [
    {
     "data": {
      "text/plain": [
       "'ABC command line: \"read /Users/michaelbrown/Documents/GitHub/aig_project/abc_translator/cirquit.v;print_stats\".\\n\\n\\x1b[1;37mexample                       :\\x1b[0m i/o =    3/    1  lat =    0  nd =    20  edge =     29  aig  =     9  lev = 11\\n'"
      ]
     },
     "execution_count": 26,
     "metadata": {},
     "output_type": "execute_result"
    }
   ],
   "source": [
    "subprocess.run(['bash', '-c', cmd], capture_output=True, text=True).stdout"
   ]
  },
  {
   "cell_type": "code",
   "execution_count": 27,
   "id": "4b89bde2-adae-4e27-8703-e703132fbec9",
   "metadata": {},
   "outputs": [
    {
     "data": {
      "text/plain": [
       "CompletedProcess(args=['bash', '-i', '-c', \"source /Users/michaelbrown/abc/abc.rc; /Users/michaelbrown/abc/abc -c 'read /Users/michaelbrown/Documents/GitHub/aig_project/abc_translator/cirquit.v;print_stats'\"], returncode=0, stdout='ABC command line: \"read /Users/michaelbrown/Documents/GitHub/aig_project/abc_translator/cirquit.v;print_stats\".\\n\\n\\x1b[1;37mexample                       :\\x1b[0m i/o =    3/    1  lat =    0  nd =    20  edge =     29  aig  =     9  lev = 11\\n', stderr='bash: no job control in this shell\\nbash: alias: hi: not found\\nbash: alias: history: not found\\nbash: alias: b: not found\\nbash: alias: balance: not found\\nbash: alias: cg: not found\\nbash: alias: clockgate: not found\\nbash: alias: cl: not found\\nbash: alias: cleanup: not found\\nbash: alias: clp: not found\\nbash: alias: collapse: not found\\nbash: alias: cs: not found\\nbash: alias: care_set: not found\\nbash: alias: el: not found\\nbash: alias: eliminate: not found\\nbash: alias: esd: not found\\nbash: alias: ext_seq_dcs: not found\\nbash: alias: f: not found\\nbash: alias: fraig: not found\\nbash: alias: fs: not found\\nbash: alias: fraig_sweep: not found\\nbash: alias: fsto: not found\\nbash: alias: fraig_store: not found\\nbash: alias: fres: not found\\nbash: alias: fraig_restore: not found\\nbash: alias: fr: not found\\nbash: alias: fretime: not found\\nbash: alias: ft: not found\\nbash: alias: fraig_trust: not found\\nbash: alias: ic: not found\\nbash: alias: indcut: not found\\nbash: alias: lp: not found\\nbash: alias: lutpack: not found\\nbash: alias: pcon: not found\\nbash: alias: print_cone: not found\\nbash: alias: pd: not found\\nbash: alias: print_dsd: not found\\nbash: alias: pex: not found\\nbash: alias: print_exdc: not found\\nbash: alias: -d: not found\\nbash: alias: pf: not found\\nbash: alias: print_factor: not found\\nbash: alias: pfan: not found\\nbash: alias: print_fanio: not found\\nbash: alias: pg: not found\\nbash: alias: print_gates: not found\\nbash: alias: pl: not found\\nbash: alias: print_level: not found\\nbash: alias: plat: not found\\nbash: alias: print_latch: not found\\nbash: alias: pio: not found\\nbash: alias: print_io: not found\\nbash: alias: pk: not found\\nbash: alias: print_kmap: not found\\nbash: alias: pm: not found\\nbash: alias: print_miter: not found\\nbash: alias: ps: not found\\nbash: alias: print_stats: not found\\nbash: alias: psb: not found\\nbash: alias: print_stats: not found\\nbash: alias: -b: not found\\nbash: alias: psu: not found\\nbash: alias: print_supp: not found\\nbash: alias: psy: not found\\nbash: alias: print_symm: not found\\nbash: alias: pun: not found\\nbash: alias: print_unate: not found\\nbash: alias: q: not found\\nbash: alias: quit: not found\\nbash: alias: r: not found\\nbash: alias: read: not found\\nbash: alias: ra: not found\\nbash: alias: read_aiger: not found\\nbash: alias: r3: not found\\nbash: alias: retime: not found\\nbash: alias: -M: not found\\nbash: alias: 3: not found\\nbash: alias: r3f: not found\\nbash: alias: retime: not found\\nbash: alias: -M: not found\\nbash: alias: 3: not found\\nbash: alias: -f: not found\\nbash: alias: r3b: not found\\nbash: alias: retime: not found\\nbash: alias: -M: not found\\nbash: alias: 3: not found\\nbash: alias: -b: not found\\nbash: alias: ren: not found\\nbash: alias: renode: not found\\nbash: alias: rh: not found\\nbash: alias: read_hie: not found\\nbash: alias: ri: not found\\nbash: alias: read_init: not found\\nbash: alias: rl: not found\\nbash: alias: read_blif: not found\\nbash: alias: rb: not found\\nbash: alias: read_bench: not found\\nbash: alias: ret: not found\\nbash: alias: retime: not found\\nbash: alias: dret: not found\\nbash: alias: dretime: not found\\nbash: alias: rp: not found\\nbash: alias: read_pla: not found\\nbash: alias: rt: not found\\nbash: alias: read_truth: not found\\nbash: alias: rv: not found\\nbash: alias: read_verilog: not found\\nbash: alias: rvl: not found\\nbash: alias: read_verlib: not found\\nbash: alias: rsup: not found\\nbash: alias: read_super: not found\\nbash: alias: mcnc5_old.super: not found\\nbash: alias: rlib: not found\\nbash: alias: read_library: not found\\nbash: alias: rlibc: not found\\nbash: alias: read_library: not found\\nbash: alias: cadence.genlib: not found\\nbash: alias: rty: not found\\nbash: alias: read_liberty: not found\\nbash: alias: rlut: not found\\nbash: alias: read_lut: not found\\nbash: alias: rw: not found\\nbash: alias: rewrite: not found\\nbash: alias: rwz: not found\\nbash: alias: rewrite: not found\\nbash: alias: -z: not found\\nbash: alias: rf: not found\\nbash: alias: refactor: not found\\nbash: alias: rfz: not found\\nbash: alias: refactor: not found\\nbash: alias: -z: not found\\nbash: alias: re: not found\\nbash: alias: restructure: not found\\nbash: alias: rez: not found\\nbash: alias: restructure: not found\\nbash: alias: -z: not found\\nbash: alias: rs: not found\\nbash: alias: resub: not found\\nbash: alias: rsz: not found\\nbash: alias: resub: not found\\nbash: alias: -z: not found\\nbash: alias: sa: not found\\nbash: alias: set: not found\\nbash: alias: autoexec: not found\\nbash: alias: ps: not found\\nbash: alias: scl: not found\\nbash: alias: scleanup: not found\\nbash: alias: sif: not found\\nbash: alias: if: not found\\nbash: alias: -s: not found\\nbash: alias: so: not found\\nbash: alias: source: not found\\nbash: alias: -x: not found\\nbash: alias: st: not found\\nbash: alias: strash: not found\\nbash: alias: sw: not found\\nbash: alias: sweep: not found\\nbash: alias: ssw: not found\\nbash: alias: ssweep: not found\\nbash: alias: tr0: not found\\nbash: alias: trace_start: not found\\nbash: alias: tr1: not found\\nbash: alias: trace_check: not found\\nbash: alias: trt: not found\\nbash: alias: r c.blif; st; tr0; b; tr1: not found\\nbash: alias: u: not found\\nbash: alias: undo: not found\\nbash: alias: w: not found\\nbash: alias: write: not found\\nbash: alias: wa: not found\\nbash: alias: write_aiger: not found\\nbash: alias: wb: not found\\nbash: alias: write_bench: not found\\nbash: alias: wc: not found\\nbash: alias: write_cnf: not found\\nbash: alias: wh: not found\\nbash: alias: write_hie: not found\\nbash: alias: wl: not found\\nbash: alias: write_blif: not found\\nbash: alias: wp: not found\\nbash: alias: write_pla: not found\\nbash: alias: wv: not found\\nbash: alias: write_verilog: not found\\nbash: alias: resyn: not found\\nbash: alias: b; rw; rwz; b; rwz; b: not found\\nbash: alias: resyn2: not found\\nbash: alias: b; rw; rf; b; rw; rwz; b; rfz; rwz; b: not found\\nbash: alias: resyn2a: not found\\nbash: alias: b; rw; b; rw; rwz; b; rwz; b: not found\\nbash: alias: resyn3: not found\\nbash: alias: b; rs; rs -K 6; b; rsz; rsz -K 6; b; rsz -K 5; b: not found\\nbash: alias: compress: not found\\nbash: alias: b -l; rw -l; rwz -l; b -l; rwz -l; b -l: not found\\nbash: alias: compress2: not found\\nbash: alias: b -l; rw -l; rf -l; b -l; rw -l; rwz -l; b -l; rfz -l; rwz -l; b -l: not found\\nbash: alias: choice: not found\\nbash: alias: fraig_store; resyn; fraig_store; resyn2; fraig_store; fraig_restore: not found\\nbash: alias: choice2: not found\\nbash: alias: fraig_store; balance; fraig_store; resyn; fraig_store; resyn2; fraig_store; resyn2; fraig_store; fraig_restore: not found\\nbash: alias: rwsat: not found\\nbash: alias: st; rw -l; b -l; rw -l; rf -l: not found\\nbash: alias: drwsat2: not found\\nbash: alias: st; drw; b -l; drw; drf; ifraig -C 20; drw; b -l; drw; drf: not found\\nbash: alias: share: not found\\nbash: alias: st; multi -m; sop; fx; resyn2: not found\\nbash: alias: addinit: not found\\nbash: alias: read_init; undc; strash; zero: not found\\nbash: alias: blif2aig: not found\\nbash: alias: undc; strash; zero: not found\\nbash: alias: v2p: not found\\nbash: alias: &vta_gla; &ps; &gla_derive; &put; w 1.aig; pdr -v: not found\\nbash: alias: g2p: not found\\nbash: alias: &ps; &gla_derive; &put; w 2.aig; pdr -v: not found\\nbash: sw_: command not found\\nbash: fx_: command not found\\nbash: dc3: command not found\\nbash: dc4: command not found\\nbash: alias: src_rw: not found\\nbash: alias: st; rw -l; rwz -l; rwz -l: not found\\nbash: alias: src_rs: not found\\nbash: alias: st; rs -K 6 -N 2 -l; rs -K 9 -N 2 -l; rs -K 12 -N 2 -l: not found\\nbash: alias: src_rws: not found\\nbash: alias: st; rw -l; rs -K 6 -N 2 -l; rwz -l; rs -K 9 -N 2 -l; rwz -l; rs -K 12 -N 2 -l: not found\\nbash: alias: resyn2rs: not found\\nbash: alias: b; rs -K 6; rw; rs -K 6 -N 2; rf; rs -K 8; b; rs -K 8 -N 2; rw; rs -K 10; rwz; rs -K 10 -N 2; b; rs -K 12; rfz; rs -K 12 -N 2; rwz; b: not found\\nbash: alias: r2rs: not found\\nbash: alias: b; rs -K 6; rw; rs -K 6 -N 2; rf; rs -K 8; b; rs -K 8 -N 2; rw; rs -K 10; rwz; rs -K 10 -N 2; b; rs -K 12; rfz; rs -K 12 -N 2; rwz; b: not found\\nbash: alias: compress2rs: not found\\nbash: alias: b -l; rs -K 6 -l; rw -l; rs -K 6 -N 2 -l; rf -l; rs -K 8 -l; b -l; rs -K 8 -N 2 -l; rw -l; rs -K 10 -l; rwz -l; rs -K 10 -N 2 -l; b -l; rs -K 12 -l; rfz -l; rs -K 12 -N 2 -l; rwz -l; b -l: not found\\nbash: alias: c2rs: not found\\nbash: alias: b -l; rs -K 6 -l; rw -l; rs -K 6 -N 2 -l; rf -l; rs -K 8 -l; b -l; rs -K 8 -N 2 -l; rw -l; rs -K 10 -l; rwz -l; rs -K 10 -N 2 -l; b -l; rs -K 12 -l; rfz -l; rs -K 12 -N 2 -l; rwz -l; b -l: not found\\nbash: alias: fix_aig: not found\\nbash: alias: logic; undc; strash; zero: not found\\nbash: alias: fix_blif: not found\\nbash: alias: undc; strash; zero: not found\\nbash: alias: recadd3: not found\\nbash: alias: st; rec_add3; b; rec_add3; dc2; rec_add3; if -K 8; bidec; st; rec_add3; dc2; rec_add3; if -g -K 6; st; rec_add3: not found\\n')"
      ]
     },
     "execution_count": 27,
     "metadata": {},
     "output_type": "execute_result"
    }
   ],
   "source": [
    "subprocess.run(['bash', '-i', '-c', cmd], capture_output=True, text=True)"
   ]
  },
  {
   "cell_type": "code",
   "execution_count": 28,
   "id": "fafd8a3d-6fb1-4463-a323-be4157ab47db",
   "metadata": {},
   "outputs": [
    {
     "name": "stdout",
     "output_type": "stream",
     "text": [
      "ABC command line: \"read /Users/michaelbrown/abc/cirquit.v; print_stats\".\n",
      "\n",
      "\u001b[1;37mexample                       :\u001b[0m i/o =    4/    1  lat =    0  nd =    36  edge =     57  aig  =    21  lev = 15\n"
     ]
    }
   ],
   "source": [
    "result1 =subprocess.run([filename2,'-c', 'read /Users/michaelbrown/abc/cirquit.v; print_stats'], shell=False)"
   ]
  },
  {
   "cell_type": "code",
   "execution_count": 29,
   "id": "860b1a4c-6f63-4a47-b1f3-5820166ed3e9",
   "metadata": {},
   "outputs": [],
   "source": [
    "result1.stdout"
   ]
  },
  {
   "cell_type": "code",
   "execution_count": 30,
   "id": "1c6576cb-5298-4b19-a5c1-6a4381af9784",
   "metadata": {},
   "outputs": [
    {
     "name": "stdout",
     "output_type": "stream",
     "text": [
      "UC Berkeley, ABC 1.01 (compiled Sep  5 2023 18:30:24)\n",
      "================== Command history ==================\n",
      "source -s abc.rc\n",
      "=====================================================\n",
      "***EOF***\n"
     ]
    }
   ],
   "source": [
    "subprocess.run([filename2,'-c \"read cirquit.v;print_stats\"'], shell=True).stdout"
   ]
  },
  {
   "cell_type": "code",
   "execution_count": 33,
   "id": "99a0f66a-1151-4d5c-9450-930d9426e89b",
   "metadata": {},
   "outputs": [],
   "source": [
    "result1"
   ]
  },
  {
   "cell_type": "code",
   "execution_count": 21,
   "id": "5ce72313-1b16-4056-b9dc-2751146b9bac",
   "metadata": {},
   "outputs": [],
   "source": [
    "\n",
    "result = subprocess.run([filename2,\" -c\",  \"\\\"r\\ /Users/michaelbrown/Documents/GitHub/aig_project/abc_translator/cirquit.v;\\ print_stats;\\ resyn;\\ print_stats\\\"\\ \"], shell=True, check=True, stdout=subprocess.PIPE, stderr=subprocess.STDOUT)"
   ]
  },
  {
   "cell_type": "code",
   "execution_count": 22,
   "id": "5934d331-de12-4e67-9512-9b3ad47e6d73",
   "metadata": {},
   "outputs": [
    {
     "data": {
      "text/plain": [
       "b'UC Berkeley, ABC 1.01 (compiled Sep  5 2023 18:30:24)\\n================== Command history ==================\\nsource -s abc.rc\\n=====================================================\\n***EOF***\\n'"
      ]
     },
     "execution_count": 22,
     "metadata": {},
     "output_type": "execute_result"
    }
   ],
   "source": [
    "result.stdout"
   ]
  },
  {
   "cell_type": "code",
   "execution_count": null,
   "id": "e8e47580-02e8-4738-906d-108bff9d88ba",
   "metadata": {},
   "outputs": [],
   "source": []
  },
  {
   "cell_type": "code",
   "execution_count": 23,
   "id": "3b49febe-3d58-44e8-aa31-55ec09b06a60",
   "metadata": {},
   "outputs": [
    {
     "name": "stdout",
     "output_type": "stream",
     "text": [
      "\n"
     ]
    }
   ],
   "source": [
    "# Command to execute\n",
    "cmd = 'source \"/Users/michaelbrown/abc/abc.rc; /Users/michaelbrown/abc/abc -c \"r cirquit.v print_stats\"'\n",
    "\n",
    "# Execute the command\n",
    "result = subprocess.run(['bash', '-c', cmd], capture_output=True, text=True)\n",
    "\n",
    "# Print the output\n",
    "print(result.stdout)"
   ]
  },
  {
   "cell_type": "code",
   "execution_count": null,
   "id": "b43d6c70-e43f-479d-b5d4-b99279a766d2",
   "metadata": {},
   "outputs": [],
   "source": []
  },
  {
   "cell_type": "code",
   "execution_count": 24,
   "id": "e6d1b3a1-c7cb-4a55-92f8-76f4d1b4c696",
   "metadata": {},
   "outputs": [
    {
     "name": "stdout",
     "output_type": "stream",
     "text": [
      "\n"
     ]
    }
   ],
   "source": [
    "# Command to execute\n",
    "cmd = 'source \"/Users/michaelbrown/abc/abc.rc; /Users/michaelbrown/abc/abc -c \"r ' + cirquit_path + 'print_stats\"'\n",
    "\n",
    "# Execute the command\n",
    "result = subprocess.run(['bash', '-c', cmd], capture_output=True, text=True)\n",
    "\n",
    "# Print the output\n",
    "print(result.stdout)"
   ]
  },
  {
   "cell_type": "code",
   "execution_count": 25,
   "id": "208432e0-9c1f-413e-a883-26b53076c8a9",
   "metadata": {},
   "outputs": [],
   "source": [
    "#result = subprocess.run([filename2, \"-c\", \"read \"+cirquit_path+\";print_stats; b; rw; rwz; b; rwz; b; print_stats\" ], shell=False, check=True, stdout=subprocess.PIPE, stderr=subprocess.STDOUT)"
   ]
  },
  {
   "cell_type": "code",
   "execution_count": 26,
   "id": "46278362-e26c-4ed1-8d4e-7f5f2fd12805",
   "metadata": {},
   "outputs": [
    {
     "data": {
      "text/plain": [
       "''"
      ]
     },
     "execution_count": 26,
     "metadata": {},
     "output_type": "execute_result"
    }
   ],
   "source": [
    "result.stdout"
   ]
  },
  {
   "cell_type": "code",
   "execution_count": null,
   "id": "e1d72c66-0ae9-489b-a62a-26af49d3b711",
   "metadata": {},
   "outputs": [],
   "source": []
  },
  {
   "cell_type": "code",
   "execution_count": 31,
   "id": "cf29d248-ec22-4ac3-b0b2-85d61505d359",
   "metadata": {},
   "outputs": [
    {
     "ename": "NameError",
     "evalue": "name 'df' is not defined",
     "output_type": "error",
     "traceback": [
      "\u001b[0;31m---------------------------------------------------------------------------\u001b[0m",
      "\u001b[0;31mNameError\u001b[0m                                 Traceback (most recent call last)",
      "Cell \u001b[0;32mIn[31], line 1\u001b[0m\n\u001b[0;32m----> 1\u001b[0m \u001b[43mdf\u001b[49m\n",
      "\u001b[0;31mNameError\u001b[0m: name 'df' is not defined"
     ]
    }
   ],
   "source": [
    "df"
   ]
  },
  {
   "cell_type": "code",
   "execution_count": null,
   "id": "18c5373e-71bd-4ee8-9a9e-d72caf22f221",
   "metadata": {},
   "outputs": [],
   "source": []
  }
 ],
 "metadata": {
  "kernelspec": {
   "display_name": "Python 3 (ipykernel)",
   "language": "python",
   "name": "python3"
  },
  "language_info": {
   "codemirror_mode": {
    "name": "ipython",
    "version": 3
   },
   "file_extension": ".py",
   "mimetype": "text/x-python",
   "name": "python",
   "nbconvert_exporter": "python",
   "pygments_lexer": "ipython3",
   "version": "3.11.5"
  }
 },
 "nbformat": 4,
 "nbformat_minor": 5
}
