{
 "cells": [
  {
   "cell_type": "code",
   "execution_count": 3,
   "id": "df7b3c35-ccdd-49a3-a1a5-68fc5a17e39b",
   "metadata": {},
   "outputs": [],
   "source": [
    "import os\n",
    "\n",
    "import subprocess\n",
    "\n",
    "import random"
   ]
  },
  {
   "cell_type": "code",
   "execution_count": 4,
   "id": "12c43121-cdbd-45c2-b690-9fe728b870df",
   "metadata": {},
   "outputs": [],
   "source": [
    "filename=os.path.realpath(\"/Users/michaelbrown/Documents/GitHub/aig_project/result\")\n"
   ]
  },
  {
   "cell_type": "code",
   "execution_count": 5,
   "id": "a1e5709d-320d-428f-9ccf-62c325279ca3",
   "metadata": {},
   "outputs": [
    {
     "data": {
      "text/plain": [
       "'/Users/michaelbrown/Documents/GitHub/aig_project/result'"
      ]
     },
     "execution_count": 5,
     "metadata": {},
     "output_type": "execute_result"
    }
   ],
   "source": [
    "filename"
   ]
  },
  {
   "cell_type": "code",
   "execution_count": 7,
   "id": "ee5f4bb5-084b-4321-93d1-06297e2a7f2c",
   "metadata": {},
   "outputs": [
    {
     "name": "stdin",
     "output_type": "stream",
     "text": [
      " 3\n"
     ]
    }
   ],
   "source": [
    "n = int(input())\n",
    "output = [random.randint(0, 1) for _ in range(2**n)]"
   ]
  },
  {
   "cell_type": "code",
   "execution_count": 9,
   "id": "628e22a1-b6da-4bd9-bea3-48d406430ba4",
   "metadata": {},
   "outputs": [],
   "source": [
    "output = ''.join(map(str,output))"
   ]
  },
  {
   "cell_type": "code",
   "execution_count": 10,
   "id": "c2fbd9a2-50ed-4fa0-b63d-84ada9d7b239",
   "metadata": {},
   "outputs": [
    {
     "data": {
      "text/plain": [
       "'01000001'"
      ]
     },
     "execution_count": 10,
     "metadata": {},
     "output_type": "execute_result"
    }
   ],
   "source": [
    "output"
   ]
  },
  {
   "cell_type": "code",
   "execution_count": 11,
   "id": "37981518-f3b8-40ab-a235-c602b9c7665e",
   "metadata": {},
   "outputs": [],
   "source": [
    "with open(\"/Users/michaelbrown/Documents/GitHub/aig_project/src/input.txt\", \"w\") as file:\n",
    "    file.write(output)\n",
    "    file.close"
   ]
  },
  {
   "cell_type": "code",
   "execution_count": 12,
   "id": "9f2c0e1b-8bed-4907-855c-451efd130003",
   "metadata": {},
   "outputs": [
    {
     "data": {
      "text/plain": [
       "'01000001'"
      ]
     },
     "execution_count": 12,
     "metadata": {},
     "output_type": "execute_result"
    }
   ],
   "source": [
    "output"
   ]
  },
  {
   "cell_type": "code",
   "execution_count": 13,
   "id": "059322cf-5277-4ab3-81a2-221b9685eabc",
   "metadata": {},
   "outputs": [],
   "source": [
    "current_dir = os.path.dirname(filename)"
   ]
  },
  {
   "cell_type": "code",
   "execution_count": 14,
   "id": "92a04ae4-528b-4d40-a4e2-82e2dc410078",
   "metadata": {},
   "outputs": [
    {
     "data": {
      "text/plain": [
       "'/Users/michaelbrown/Documents/GitHub/aig_project'"
      ]
     },
     "execution_count": 14,
     "metadata": {},
     "output_type": "execute_result"
    }
   ],
   "source": [
    "current_dir"
   ]
  },
  {
   "cell_type": "code",
   "execution_count": 15,
   "id": "526271a9-4efb-4d26-ad8e-c48653b98437",
   "metadata": {},
   "outputs": [],
   "source": [
    "result = subprocess.run([filename], shell=True, stdout=subprocess.PIPE, stderr=subprocess.STDOUT)"
   ]
  },
  {
   "cell_type": "code",
   "execution_count": 16,
   "id": "a13ddbd8-c56d-479f-85ea-6239b79ba1f9",
   "metadata": {},
   "outputs": [
    {
     "data": {
      "text/plain": [
       "b'Assertion failed: (k_first_variables >= 1), function build_conjuction_universal_set, file ig_lupanov.cpp, line 116.\\n'"
      ]
     },
     "execution_count": 16,
     "metadata": {},
     "output_type": "execute_result"
    }
   ],
   "source": [
    "result.stdout\n"
   ]
  },
  {
   "cell_type": "code",
   "execution_count": 19,
   "id": "4c4033c4-4c63-4491-9b85-6782a362769a",
   "metadata": {},
   "outputs": [
    {
     "ename": "CalledProcessError",
     "evalue": "Command '['.././result']' died with <Signals.SIGABRT: 6>.",
     "output_type": "error",
     "traceback": [
      "\u001b[0;31m---------------------------------------------------------------------------\u001b[0m",
      "\u001b[0;31mCalledProcessError\u001b[0m                        Traceback (most recent call last)",
      "Cell \u001b[0;32mIn[19], line 1\u001b[0m\n\u001b[0;32m----> 1\u001b[0m result \u001b[38;5;241m=\u001b[39m \u001b[43msubprocess\u001b[49m\u001b[38;5;241;43m.\u001b[39;49m\u001b[43mrun\u001b[49m\u001b[43m(\u001b[49m\u001b[43m[\u001b[49m\u001b[38;5;124;43m\"\u001b[39;49m\u001b[38;5;124;43m.././result\u001b[39;49m\u001b[38;5;124;43m\"\u001b[39;49m\u001b[43m]\u001b[49m\u001b[43m,\u001b[49m\u001b[43m \u001b[49m\u001b[43mshell\u001b[49m\u001b[38;5;241;43m=\u001b[39;49m\u001b[38;5;28;43;01mTrue\u001b[39;49;00m\u001b[43m,\u001b[49m\u001b[43m \u001b[49m\u001b[43mcheck\u001b[49m\u001b[38;5;241;43m=\u001b[39;49m\u001b[38;5;28;43;01mTrue\u001b[39;49;00m\u001b[43m,\u001b[49m\u001b[43m \u001b[49m\u001b[43mstdout\u001b[49m\u001b[38;5;241;43m=\u001b[39;49m\u001b[43msubprocess\u001b[49m\u001b[38;5;241;43m.\u001b[39;49m\u001b[43mPIPE\u001b[49m\u001b[43m,\u001b[49m\u001b[43m \u001b[49m\u001b[43mstderr\u001b[49m\u001b[38;5;241;43m=\u001b[39;49m\u001b[43msubprocess\u001b[49m\u001b[38;5;241;43m.\u001b[39;49m\u001b[43mSTDOUT\u001b[49m\u001b[43m)\u001b[49m\n\u001b[1;32m      2\u001b[0m result\u001b[38;5;241m.\u001b[39mstdout \u001b[38;5;241m=\u001b[39m \u001b[38;5;28mstr\u001b[39m(n) \u001b[38;5;241m+\u001b[39m \u001b[38;5;124m'\u001b[39m\u001b[38;5;124m \u001b[39m\u001b[38;5;124m'\u001b[39m \u001b[38;5;241m+\u001b[39m \u001b[38;5;28mstr\u001b[39m(result\u001b[38;5;241m.\u001b[39mstdout)[\u001b[38;5;241m2\u001b[39m:\u001b[38;5;241m-\u001b[39m\u001b[38;5;241m3\u001b[39m]\n",
      "File \u001b[0;32m/opt/homebrew/Cellar/python@3.11/3.11.4_1/Frameworks/Python.framework/Versions/3.11/lib/python3.11/subprocess.py:571\u001b[0m, in \u001b[0;36mrun\u001b[0;34m(input, capture_output, timeout, check, *popenargs, **kwargs)\u001b[0m\n\u001b[1;32m    569\u001b[0m     retcode \u001b[38;5;241m=\u001b[39m process\u001b[38;5;241m.\u001b[39mpoll()\n\u001b[1;32m    570\u001b[0m     \u001b[38;5;28;01mif\u001b[39;00m check \u001b[38;5;129;01mand\u001b[39;00m retcode:\n\u001b[0;32m--> 571\u001b[0m         \u001b[38;5;28;01mraise\u001b[39;00m CalledProcessError(retcode, process\u001b[38;5;241m.\u001b[39margs,\n\u001b[1;32m    572\u001b[0m                                  output\u001b[38;5;241m=\u001b[39mstdout, stderr\u001b[38;5;241m=\u001b[39mstderr)\n\u001b[1;32m    573\u001b[0m \u001b[38;5;28;01mreturn\u001b[39;00m CompletedProcess(process\u001b[38;5;241m.\u001b[39margs, retcode, stdout, stderr)\n",
      "\u001b[0;31mCalledProcessError\u001b[0m: Command '['.././result']' died with <Signals.SIGABRT: 6>."
     ]
    }
   ],
   "source": [
    "result = subprocess.run([\".././result\"], shell=True, check=True, stdout=subprocess.PIPE, stderr=subprocess.STDOUT)\n",
    "result.stdout = str(n) + ' ' + str(result.stdout)[2:-3]\n"
   ]
  },
  {
   "cell_type": "code",
   "execution_count": 20,
   "id": "88e28777-f32e-483c-877e-3a9a14f50648",
   "metadata": {},
   "outputs": [
    {
     "name": "stdout",
     "output_type": "stream",
     "text": [
      "Command '/Users/michaelbrown/Documents/GitHub/aig_project/result' returned non-zero exit status -6.\n",
      "Output: Assertion failed: (k_first_variables >= 1), function build_conjuction_universal_set, file ig_lupanov.cpp, line 116.\n",
      "\n"
     ]
    }
   ],
   "source": [
    "try:\n",
    "    result = subprocess.run([filename], shell=True, check=True, stdout=subprocess.PIPE, stderr=subprocess.STDOUT)\n",
    "except subprocess.CalledProcessError as e:\n",
    "    print(f\"Command '{' '.join(e.cmd)}' returned non-zero exit status {e.returncode}.\")\n",
    "    print(f\"Output: {e.output.decode()}\")"
   ]
  },
  {
   "cell_type": "code",
   "execution_count": null,
   "id": "69c1a61f-cff0-42ee-9727-9261ba31b972",
   "metadata": {},
   "outputs": [],
   "source": [
    "result.stdout"
   ]
  },
  {
   "cell_type": "code",
   "execution_count": 14,
   "id": "4c37d3c3-b54b-4587-ae45-a52c9bc12f72",
   "metadata": {},
   "outputs": [],
   "source": [
    "output_text = result.stdout\n",
    "with open(\"output.txt\", \"w\") as file:\n",
    "    file.write(output_text)"
   ]
  },
  {
   "cell_type": "code",
   "execution_count": 15,
   "id": "1e626d12-da2c-4657-b885-d9ad865d60c0",
   "metadata": {},
   "outputs": [
    {
     "data": {
      "text/plain": [
       "'3 '"
      ]
     },
     "execution_count": 15,
     "metadata": {},
     "output_type": "execute_result"
    }
   ],
   "source": [
    "output_text"
   ]
  },
  {
   "cell_type": "code",
   "execution_count": 16,
   "id": "82be4aac-e462-4062-89de-d647043412de",
   "metadata": {},
   "outputs": [
    {
     "data": {
      "text/plain": [
       "'3 '"
      ]
     },
     "execution_count": 16,
     "metadata": {},
     "output_type": "execute_result"
    }
   ],
   "source": [
    "result.stdout"
   ]
  },
  {
   "cell_type": "code",
   "execution_count": 17,
   "id": "2939e79f-7c6e-4b0d-875e-e03aa1be8452",
   "metadata": {},
   "outputs": [],
   "source": [
    "\n",
    "\n",
    "cmd = [\"python3\", \"aig2verilog1.py\", \"example\", \"output.txt\", \"cirquit.v\"]\n",
    "result = subprocess.run(cmd, stdout=subprocess.PIPE, stderr=subprocess.STDOUT)\n"
   ]
  },
  {
   "cell_type": "code",
   "execution_count": 18,
   "id": "2ad2f368-54aa-48b1-b600-46a90862d99f",
   "metadata": {},
   "outputs": [
    {
     "data": {
      "text/plain": [
       "b'Traceback (most recent call last):\\n  File \"/Users/michaelbrown/Documents/GitHub/aig_project/abc_translator/aig2verilog1.py\", line 37, in <module>\\n    main()\\n  File \"/Users/michaelbrown/Documents/GitHub/aig_project/abc_translator/aig2verilog1.py\", line 35, in main\\n    print(aig2verilog(module_name, aig_str), file=out_file)\\n          ^^^^^^^^^^^^^^^^^^^^^^^^^^^^^^^^^\\n  File \"/Users/michaelbrown/Documents/GitHub/aig_project/abc_translator/aig2verilog1.py\", line 16, in aig2verilog\\n    var_count, node_count, out_node, out_inv, *aig_code = [int(v) for v in aig_str.split()][skip:]\\n    ^^^^^^^^^^^^^^^^^^^^^^^^^^^^^^^^^^^^^^^^^^^^^^^^^^^\\nValueError: not enough values to unpack (expected at least 4, got 1)\\n'"
      ]
     },
     "execution_count": 18,
     "metadata": {},
     "output_type": "execute_result"
    }
   ],
   "source": [
    "\n",
    "result.stdout"
   ]
  },
  {
   "cell_type": "code",
   "execution_count": 19,
   "id": "d89db0a7-36aa-42ec-a993-8a3d5ab8d8f7",
   "metadata": {},
   "outputs": [],
   "source": [
    "cirquit_path = \"/Users/michaelbrown/Documents/GitHub/aig_project/abc_translator/cirquit.v\"\n",
    "filename2=os.path.realpath(\"/Users/michaelbrown/abc/abc\")"
   ]
  },
  {
   "cell_type": "code",
   "execution_count": 20,
   "id": "5ce72313-1b16-4056-b9dc-2751146b9bac",
   "metadata": {},
   "outputs": [],
   "source": [
    "\n",
    "result = subprocess.run([filename2,\" -c\",  \"\\\"r\\ /Users/michaelbrown/Documents/GitHub/aig_project/abc_translator/cirquit.v;\\ print_stats;\\ resyn;\\ print_stats\\\"\\ \"], shell=True, check=True, stdout=subprocess.PIPE, stderr=subprocess.STDOUT)"
   ]
  },
  {
   "cell_type": "code",
   "execution_count": 21,
   "id": "5934d331-de12-4e67-9512-9b3ad47e6d73",
   "metadata": {},
   "outputs": [
    {
     "data": {
      "text/plain": [
       "b'UC Berkeley, ABC 1.01 (compiled Sep  5 2023 18:30:24)\\n================== Command history ==================\\nsource -s abc.rc\\n=====================================================\\n***EOF***\\n'"
      ]
     },
     "execution_count": 21,
     "metadata": {},
     "output_type": "execute_result"
    }
   ],
   "source": [
    "result.stdout"
   ]
  },
  {
   "cell_type": "code",
   "execution_count": 81,
   "id": "208432e0-9c1f-413e-a883-26b53076c8a9",
   "metadata": {},
   "outputs": [],
   "source": [
    "result = subprocess.run([filename2, \"-c\", \"read\", \"output.v, \" ], shell=True, check=True, stdout=subprocess.PIPE, stderr=subprocess.STDOUT)"
   ]
  },
  {
   "cell_type": "code",
   "execution_count": 82,
   "id": "46278362-e26c-4ed1-8d4e-7f5f2fd12805",
   "metadata": {},
   "outputs": [
    {
     "data": {
      "text/plain": [
       "b'UC Berkeley, ABC 1.01 (compiled Sep  5 2023 18:30:24)\\n================== Command history ==================\\nsource -s abc.rc\\n=====================================================\\n***EOF***\\n'"
      ]
     },
     "execution_count": 82,
     "metadata": {},
     "output_type": "execute_result"
    }
   ],
   "source": [
    "result.stdout"
   ]
  },
  {
   "cell_type": "code",
   "execution_count": null,
   "id": "e1d72c66-0ae9-489b-a62a-26af49d3b711",
   "metadata": {},
   "outputs": [],
   "source": []
  }
 ],
 "metadata": {
  "kernelspec": {
   "display_name": "Python 3 (ipykernel)",
   "language": "python",
   "name": "python3"
  },
  "language_info": {
   "codemirror_mode": {
    "name": "ipython",
    "version": 3
   },
   "file_extension": ".py",
   "mimetype": "text/x-python",
   "name": "python",
   "nbconvert_exporter": "python",
   "pygments_lexer": "ipython3",
   "version": "3.11.4"
  }
 },
 "nbformat": 4,
 "nbformat_minor": 5
}
