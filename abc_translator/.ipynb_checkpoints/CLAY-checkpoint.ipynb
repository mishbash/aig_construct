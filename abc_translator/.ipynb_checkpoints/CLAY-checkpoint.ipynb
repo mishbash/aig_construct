{
 "cells": [
  {
   "cell_type": "code",
   "execution_count": 1,
   "id": "df7b3c35-ccdd-49a3-a1a5-68fc5a17e39b",
   "metadata": {},
   "outputs": [],
   "source": [
    "import os\n",
    "\n",
    "import subprocess\n",
    "\n",
    "import random"
   ]
  },
  {
   "cell_type": "code",
   "execution_count": 2,
   "id": "12c43121-cdbd-45c2-b690-9fe728b870df",
   "metadata": {},
   "outputs": [],
   "source": [
    "filename=os.path.realpath(\"/Users/michaelbrown/Documents/GitHub/aig_project/result\")\n"
   ]
  },
  {
   "cell_type": "code",
   "execution_count": 3,
   "id": "a1e5709d-320d-428f-9ccf-62c325279ca3",
   "metadata": {},
   "outputs": [
    {
     "data": {
      "text/plain": [
       "'/Users/michaelbrown/Documents/GitHub/aig_project/result'"
      ]
     },
     "execution_count": 3,
     "metadata": {},
     "output_type": "execute_result"
    }
   ],
   "source": [
    "filename"
   ]
  },
  {
   "cell_type": "code",
   "execution_count": 4,
   "id": "ee5f4bb5-084b-4321-93d1-06297e2a7f2c",
   "metadata": {},
   "outputs": [
    {
     "name": "stdin",
     "output_type": "stream",
     "text": [
      " 4\n"
     ]
    }
   ],
   "source": [
    "n = int(input())\n",
    "output = [random.randint(0, 1) for _ in range(2**n)]"
   ]
  },
  {
   "cell_type": "code",
   "execution_count": 5,
   "id": "628e22a1-b6da-4bd9-bea3-48d406430ba4",
   "metadata": {},
   "outputs": [],
   "source": [
    "output = ''.join(map(str,output))"
   ]
  },
  {
   "cell_type": "code",
   "execution_count": 6,
   "id": "c2fbd9a2-50ed-4fa0-b63d-84ada9d7b239",
   "metadata": {},
   "outputs": [
    {
     "data": {
      "text/plain": [
       "'1000000110110100'"
      ]
     },
     "execution_count": 6,
     "metadata": {},
     "output_type": "execute_result"
    }
   ],
   "source": [
    "output"
   ]
  },
  {
   "cell_type": "code",
   "execution_count": 7,
   "id": "37981518-f3b8-40ab-a235-c602b9c7665e",
   "metadata": {},
   "outputs": [],
   "source": [
    "with open(\"/Users/michaelbrown/Documents/GitHub/aig_project/src/input.txt\", \"w\") as file:\n",
    "    file.write(output)\n",
    "    file.close"
   ]
  },
  {
   "cell_type": "code",
   "execution_count": 8,
   "id": "9f2c0e1b-8bed-4907-855c-451efd130003",
   "metadata": {},
   "outputs": [
    {
     "data": {
      "text/plain": [
       "'1000000110110100'"
      ]
     },
     "execution_count": 8,
     "metadata": {},
     "output_type": "execute_result"
    }
   ],
   "source": [
    "output"
   ]
  },
  {
   "cell_type": "code",
   "execution_count": 9,
   "id": "059322cf-5277-4ab3-81a2-221b9685eabc",
   "metadata": {},
   "outputs": [],
   "source": [
    "current_dir = os.path.dirname(filename)"
   ]
  },
  {
   "cell_type": "code",
   "execution_count": 12,
   "id": "92a04ae4-528b-4d40-a4e2-82e2dc410078",
   "metadata": {},
   "outputs": [
    {
     "data": {
      "text/plain": [
       "'/Users/michaelbrown/Documents/GitHub/aig_project'"
      ]
     },
     "execution_count": 12,
     "metadata": {},
     "output_type": "execute_result"
    }
   ],
   "source": [
    "current_dir"
   ]
  },
  {
   "cell_type": "code",
   "execution_count": 17,
   "id": "4c4033c4-4c63-4491-9b85-6782a362769a",
   "metadata": {},
   "outputs": [],
   "source": [
    "result = subprocess.run([filename, \"input.txt\"], shell=True, check=True, stdout=subprocess.PIPE, stderr=subprocess.STDOUT)\n",
    "result.stdout = str(n) + ' ' + str(result.stdout)[2:-3]\n"
   ]
  },
  {
   "cell_type": "code",
   "execution_count": 18,
   "id": "69c1a61f-cff0-42ee-9727-9261ba31b972",
   "metadata": {},
   "outputs": [
    {
     "data": {
      "text/plain": [
       "'4 21 24 0 1 0 1 0 1 1 1 1 4 0 2 0 5 0 2 0 4 0 2 1 5 0 2 1 3 0 3 0 3 1 3 1 6 0 6 0 12 1 9 1 13 1 13 1 14 0 10 0 15 0 15 0 7 0 7 0 17 1 8 1 18 1 18 1 19 1 9 1 20 1 20 1 21 0 11 0 16 1 22 1 23 1 23 1 '"
      ]
     },
     "execution_count": 18,
     "metadata": {},
     "output_type": "execute_result"
    }
   ],
   "source": [
    "result.stdout"
   ]
  },
  {
   "cell_type": "code",
   "execution_count": 16,
   "id": "4c37d3c3-b54b-4587-ae45-a52c9bc12f72",
   "metadata": {},
   "outputs": [],
   "source": [
    "output_text = result.stdout\n",
    "with open(\"output.txt\", \"w\") as file:\n",
    "    file.write(output_text)"
   ]
  },
  {
   "cell_type": "code",
   "execution_count": 19,
   "id": "1e626d12-da2c-4657-b885-d9ad865d60c0",
   "metadata": {},
   "outputs": [
    {
     "data": {
      "text/plain": [
       "'4 21 24 0 1 0 1 0 1 1 1 1 4 0 2 0 5 0 2 0 4 0 2 1 5 0 2 1 3 0 3 0 3 1 3 1 6 0 6 0 12 1 9 1 13 1 13 1 14 0 10 0 15 0 15 0 7 0 7 0 17 1 8 1 18 1 18 1 19 1 9 1 20 1 20 1 21 0 11 0 16 1 22 1 23 1 23 1 '"
      ]
     },
     "execution_count": 19,
     "metadata": {},
     "output_type": "execute_result"
    }
   ],
   "source": [
    "output_text"
   ]
  },
  {
   "cell_type": "code",
   "execution_count": 20,
   "id": "82be4aac-e462-4062-89de-d647043412de",
   "metadata": {},
   "outputs": [
    {
     "data": {
      "text/plain": [
       "'4 21 24 0 1 0 1 0 1 1 1 1 4 0 2 0 5 0 2 0 4 0 2 1 5 0 2 1 3 0 3 0 3 1 3 1 6 0 6 0 12 1 9 1 13 1 13 1 14 0 10 0 15 0 15 0 7 0 7 0 17 1 8 1 18 1 18 1 19 1 9 1 20 1 20 1 21 0 11 0 16 1 22 1 23 1 23 1 '"
      ]
     },
     "execution_count": 20,
     "metadata": {},
     "output_type": "execute_result"
    }
   ],
   "source": [
    "result.stdout"
   ]
  },
  {
   "cell_type": "code",
   "execution_count": 21,
   "id": "2939e79f-7c6e-4b0d-875e-e03aa1be8452",
   "metadata": {},
   "outputs": [],
   "source": [
    "\n",
    "\n",
    "cmd = [\"python3\", \"aig2verilog1.py\", \"example\", \"output.txt\", \"cirquit.v\"]\n",
    "result = subprocess.run(cmd, stdout=subprocess.PIPE, stderr=subprocess.STDOUT)\n"
   ]
  },
  {
   "cell_type": "code",
   "execution_count": 22,
   "id": "2ad2f368-54aa-48b1-b600-46a90862d99f",
   "metadata": {},
   "outputs": [
    {
     "data": {
      "text/plain": [
       "b''"
      ]
     },
     "execution_count": 22,
     "metadata": {},
     "output_type": "execute_result"
    }
   ],
   "source": [
    "\n",
    "result.stdout"
   ]
  },
  {
   "cell_type": "code",
   "execution_count": 23,
   "id": "d89db0a7-36aa-42ec-a993-8a3d5ab8d8f7",
   "metadata": {},
   "outputs": [],
   "source": [
    "cirquit_path = \"/Users/michaelbrown/Documents/GitHub/aig_project/abc_translator/cirquit.v\"\n",
    "filename2=os.path.realpath(\"/Users/michaelbrown/abc/abc\")"
   ]
  },
  {
   "cell_type": "code",
   "execution_count": 67,
   "id": "5ce72313-1b16-4056-b9dc-2751146b9bac",
   "metadata": {},
   "outputs": [],
   "source": [
    "\n",
    "result = subprocess.run([filename2,\" -c\",  \"\\\"r\\ /Users/michaelbrown/Documents/GitHub/aig_project/abc_translator/cirquit.v;\\ print_stats;\\ resyn;\\ print_stats\\\"\\ \"], shell=True, check=True, stdout=subprocess.PIPE, stderr=subprocess.STDOUT)"
   ]
  },
  {
   "cell_type": "code",
   "execution_count": 68,
   "id": "5934d331-de12-4e67-9512-9b3ad47e6d73",
   "metadata": {},
   "outputs": [
    {
     "data": {
      "text/plain": [
       "b'UC Berkeley, ABC 1.01 (compiled Sep  5 2023 18:30:24)\\n================== Command history ==================\\nsource -s abc.rc\\n=====================================================\\n***EOF***\\n'"
      ]
     },
     "execution_count": 68,
     "metadata": {},
     "output_type": "execute_result"
    }
   ],
   "source": [
    "result.stdout"
   ]
  },
  {
   "cell_type": "code",
   "execution_count": 81,
   "id": "208432e0-9c1f-413e-a883-26b53076c8a9",
   "metadata": {},
   "outputs": [],
   "source": [
    "result = subprocess.run([filename2, \"-c\", \"read\", \"output.v, \" ], shell=True, check=True, stdout=subprocess.PIPE, stderr=subprocess.STDOUT)"
   ]
  },
  {
   "cell_type": "code",
   "execution_count": 82,
   "id": "46278362-e26c-4ed1-8d4e-7f5f2fd12805",
   "metadata": {},
   "outputs": [
    {
     "data": {
      "text/plain": [
       "b'UC Berkeley, ABC 1.01 (compiled Sep  5 2023 18:30:24)\\n================== Command history ==================\\nsource -s abc.rc\\n=====================================================\\n***EOF***\\n'"
      ]
     },
     "execution_count": 82,
     "metadata": {},
     "output_type": "execute_result"
    }
   ],
   "source": [
    "result.stdout"
   ]
  },
  {
   "cell_type": "code",
   "execution_count": null,
   "id": "e1d72c66-0ae9-489b-a62a-26af49d3b711",
   "metadata": {},
   "outputs": [],
   "source": []
  }
 ],
 "metadata": {
  "kernelspec": {
   "display_name": "Python 3 (ipykernel)",
   "language": "python",
   "name": "python3"
  },
  "language_info": {
   "codemirror_mode": {
    "name": "ipython",
    "version": 3
   },
   "file_extension": ".py",
   "mimetype": "text/x-python",
   "name": "python",
   "nbconvert_exporter": "python",
   "pygments_lexer": "ipython3",
   "version": "3.11.4"
  }
 },
 "nbformat": 4,
 "nbformat_minor": 5
}
